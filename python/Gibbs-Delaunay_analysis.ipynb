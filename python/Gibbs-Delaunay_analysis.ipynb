{
 "cells": [
  {
   "cell_type": "code",
   "execution_count": 4,
   "metadata": {},
   "outputs": [],
   "source": [
    "import math\n",
    "import numpy as np\n",
    "import pandas as pd\n",
    "import matplotlib.pyplot as plt"
   ]
  },
  {
   "cell_type": "markdown",
   "metadata": {},
   "source": [
    "### Lessons learned\n",
    "* Make notes on classic EDA stuff\n",
    " * grouping and aggregating\n",
    " * summary statistics\n",
    " * basic plots\n",
    " * correlations"
   ]
  },
  {
   "cell_type": "markdown",
   "metadata": {},
   "source": [
    "How to improve the data\n",
    "* good column names from the start\n",
    "* no unnecessary whitespace\n",
    "* sensible group names"
   ]
  },
  {
   "cell_type": "markdown",
   "metadata": {},
   "source": [
    "# Diagnostic plots"
   ]
  },
  {
   "cell_type": "code",
   "execution_count": 2,
   "metadata": {},
   "outputs": [],
   "source": [
    "log = pd.read_csv('logg.csv', sep=',')"
   ]
  },
  {
   "cell_type": "markdown",
   "metadata": {},
   "source": [
    "### Accept + move type statistics"
   ]
  },
  {
   "cell_type": "code",
   "execution_count": 4,
   "metadata": {},
   "outputs": [
    {
     "data": {
      "text/plain": [
       "0.0    1742091\n",
       "1.0     178386\n",
       "Name: accept, dtype: int64"
      ]
     },
     "execution_count": 4,
     "metadata": {},
     "output_type": "execute_result"
    }
   ],
   "source": [
    "log['accept'].value_counts()"
   ]
  },
  {
   "cell_type": "code",
   "execution_count": 5,
   "metadata": {},
   "outputs": [
    {
     "data": {
      "text/plain": [
       "M    666900\n",
       "D    666613\n",
       "B    666487\n",
       "Name: type, dtype: int64"
      ]
     },
     "execution_count": 5,
     "metadata": {},
     "output_type": "execute_result"
    }
   ],
   "source": [
    "log['type'].value_counts()"
   ]
  },
  {
   "cell_type": "code",
   "execution_count": 6,
   "metadata": {},
   "outputs": [
    {
     "data": {
      "text/plain": [
       "accept  type\n",
       "0.0     M       610642\n",
       "        D       598678\n",
       "        B       532771\n",
       "1.0     B        68090\n",
       "        D        67935\n",
       "        M        42361\n",
       "Name: type, dtype: int64"
      ]
     },
     "execution_count": 6,
     "metadata": {},
     "output_type": "execute_result"
    }
   ],
   "source": [
    "log.groupby('accept')['type'].value_counts()"
   ]
  },
  {
   "cell_type": "markdown",
   "metadata": {},
   "source": [
    "### Convergence"
   ]
  },
  {
   "cell_type": "code",
   "execution_count": 11,
   "metadata": {},
   "outputs": [],
   "source": [
    "log['time'] = log['time'].replace(math.nan,'',regex=True)\n",
    "log['time'] = pd.to_numeric(log['time'])"
   ]
  },
  {
   "cell_type": "code",
   "execution_count": 12,
   "metadata": {},
   "outputs": [],
   "source": [
    "block_length = 10000\n",
    "groupby_blocks = np.repeat(range(int(len(log)/block_length)),block_length)"
   ]
  },
  {
   "cell_type": "code",
   "execution_count": 13,
   "metadata": {},
   "outputs": [],
   "source": [
    "groupedlog = log.groupby([groupby_blocks, 'type'])['accept'].sum().reset_index()"
   ]
  },
  {
   "cell_type": "code",
   "execution_count": 14,
   "metadata": {},
   "outputs": [
    {
     "data": {
      "image/png": "[encoded data removed]",
      "text/plain": [
       "<Figure size 432x288 with 6 Axes>"
      ]
     },
     "metadata": {},
     "output_type": "display_data"
    }
   ],
   "source": [
    "\n",
    "plt.subplot(2,3,1)\n",
    "plt.title('Energy')\n",
    "log['energy'].plot()\n",
    "\n",
    "plt.subplot(2,3,2)\n",
    "plt.title('Number of vertices')\n",
    "log['no_act_vrt'].plot()\n",
    "\n",
    "plt.subplot(2,3,3)\n",
    "plt.title('Time taken')\n",
    "log['time'].plot()\n",
    "\n",
    "plt.subplot(2,3,4)\n",
    "plt.title('Accepted births')\n",
    "groupedlog[groupedlog['type'] == 'B']['accept'].plot()\n",
    "\n",
    "plt.subplot(2,3,5)\n",
    "plt.title('Accepted deaths')\n",
    "groupedlog[groupedlog['type'] == 'D']['accept'].plot()\n",
    "\n",
    "plt.subplot(2,3,6)\n",
    "plt.title('Accepted moves')\n",
    "groupedlog[groupedlog['type'] == 'M']['accept'].plot()\n",
    "\n",
    "\n",
    "plt.tight_layout()\n",
    "# plt.show()\n",
    "\n",
    "plt.savefig('foo.pdf')"
   ]
  },
  {
   "cell_type": "code",
   "execution_count": null,
   "metadata": {},
   "outputs": [],
   "source": []
  },
  {
   "cell_type": "markdown",
   "metadata": {},
   "source": [
    "# Cell data distributions"
   ]
  },
  {
   "cell_type": "code",
   "execution_count": 5,
   "metadata": {},
   "outputs": [],
   "source": [
    "cell_data = pd.read_csv('cell_data.txt', sep=';')"
   ]
  },
  {
   "cell_type": "code",
   "execution_count": 11,
   "metadata": {},
   "outputs": [
    {
     "data": {
      "text/html": [
       "<div>\n",
       "<style scoped>\n",
       "    .dataframe tbody tr th:only-of-type {\n",
       "        vertical-align: middle;\n",
       "    }\n",
       "\n",
       "    .dataframe tbody tr th {\n",
       "        vertical-align: top;\n",
       "    }\n",
       "\n",
       "    .dataframe thead th {\n",
       "        text-align: right;\n",
       "    }\n",
       "</style>\n",
       "<table border=\"1\" class=\"dataframe\">\n",
       "  <thead>\n",
       "    <tr style=\"text-align: right;\">\n",
       "      <th></th>\n",
       "      <th>epsilon</th>\n",
       "      <th>alpha</th>\n",
       "      <th>theta</th>\n",
       "      <th>z</th>\n",
       "      <th>max_weight</th>\n",
       "      <th>tetra_volume</th>\n",
       "      <th>tetra_circum</th>\n",
       "      <th>face_surf</th>\n",
       "      <th>edge_length</th>\n",
       "      <th>point_weight</th>\n",
       "      <th>point_degree</th>\n",
       "      <th>cells</th>\n",
       "      <th>vertices</th>\n",
       "      <th>removable</th>\n",
       "      <th>epsilon_est</th>\n",
       "      <th>face_est</th>\n",
       "      <th>alpha_est</th>\n",
       "      <th>theta_est</th>\n",
       "      <th>z_est</th>\n",
       "      <th>theta_known_z_est</th>\n",
       "    </tr>\n",
       "  </thead>\n",
       "  <tbody>\n",
       "    <tr>\n",
       "      <th>0</th>\n",
       "      <td>0.01</td>\n",
       "      <td>0.1</td>\n",
       "      <td>1</td>\n",
       "      <td>500</td>\n",
       "      <td>0.01</td>\n",
       "      <td>[0.000286249, 0.000230951, 0.000348695, 0.0002...</td>\n",
       "      <td>[0.0937289, 0.0936177, 0.0934784, 0.0844761, 0...</td>\n",
       "      <td>[0.00814071, 0.00872971, 0.00872971, 0.0106917...</td>\n",
       "      <td>[0.111111, 0.157135, 0.111111, 0.111111, 0.157...</td>\n",
       "      <td>[0.005, 0.005, 0.005, 0.005, 0.005, 0.005, 0.0...</td>\n",
       "      <td>[15, 18, 14, 16, 16, 15, 18, 17, 12, 16, 14, 1...</td>\n",
       "      <td>3774</td>\n",
       "      <td>556</td>\n",
       "      <td>3</td>\n",
       "      <td>0.036226</td>\n",
       "      <td>0.001415</td>\n",
       "      <td>0.065092</td>\n",
       "      <td>1.86386</td>\n",
       "      <td>4.5172913.9218</td>\n",
       "      <td>NaN</td>\n",
       "    </tr>\n",
       "  </tbody>\n",
       "</table>\n",
       "</div>"
      ],
      "text/plain": [
       "   epsilon  alpha  theta    z  max_weight  \\\n",
       "0     0.01    0.1      1  500        0.01   \n",
       "\n",
       "                                        tetra_volume  \\\n",
       "0  [0.000286249, 0.000230951, 0.000348695, 0.0002...   \n",
       "\n",
       "                                        tetra_circum  \\\n",
       "0  [0.0937289, 0.0936177, 0.0934784, 0.0844761, 0...   \n",
       "\n",
       "                                           face_surf  \\\n",
       "0  [0.00814071, 0.00872971, 0.00872971, 0.0106917...   \n",
       "\n",
       "                                         edge_length  \\\n",
       "0  [0.111111, 0.157135, 0.111111, 0.111111, 0.157...   \n",
       "\n",
       "                                        point_weight  \\\n",
       "0  [0.005, 0.005, 0.005, 0.005, 0.005, 0.005, 0.0...   \n",
       "\n",
       "                                        point_degree  cells  vertices  \\\n",
       "0  [15, 18, 14, 16, 16, 15, 18, 17, 12, 16, 14, 1...   3774       556   \n",
       "\n",
       "   removable  epsilon_est  face_est  alpha_est  theta_est           z_est  \\\n",
       "0          3     0.036226  0.001415   0.065092    1.86386  4.5172913.9218   \n",
       "\n",
       "   theta_known_z_est  \n",
       "0                NaN  "
      ]
     },
     "execution_count": 11,
     "metadata": {},
     "output_type": "execute_result"
    }
   ],
   "source": [
    "cell_data"
   ]
  },
  {
   "cell_type": "code",
   "execution_count": null,
   "metadata": {},
   "outputs": [],
   "source": []
  }
 ],
 "metadata": {
  "kernelspec": {
   "display_name": "Python 3",
   "language": "python",
   "name": "python3"
  },
  "language_info": {
   "codemirror_mode": {
    "name": "ipython",
    "version": 3
   },
   "file_extension": ".py",
   "mimetype": "text/x-python",
   "name": "python",
   "nbconvert_exporter": "python",
   "pygments_lexer": "ipython3",
   "version": "3.6.5"
  }
 },
 "nbformat": 4,
 "nbformat_minor": 2
}
