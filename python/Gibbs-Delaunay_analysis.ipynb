{
 "cells": [
  {
   "cell_type": "code",
   "execution_count": 1,
   "metadata": {
    "collapsed": true
   },
   "outputs": [],
   "source": [
    "import math\n",
    "import numpy as np\n",
    "import pandas as pd\n",
    "import matplotlib.pyplot as plt"
   ]
  },
  {
   "cell_type": "code",
   "execution_count": 2,
   "metadata": {
    "collapsed": true
   },
   "outputs": [],
   "source": [
    "import re\n",
    "import os"
   ]
  },
  {
   "cell_type": "code",
   "execution_count": 3,
   "metadata": {
    "collapsed": true
   },
   "outputs": [],
   "source": [
    "import glob"
   ]
  },
  {
   "cell_type": "markdown",
   "metadata": {},
   "source": [
    "### Lessons learned\n",
    "* Make notes on classic EDA stuff\n",
    " * grouping and aggregating\n",
    " * summary statistics\n",
    " * basic plots\n",
    " * correlations\n",
    "* os basics\n",
    "* regexp basics"
   ]
  },
  {
   "cell_type": "markdown",
   "metadata": {},
   "source": [
    "# Cell data processing"
   ]
  },
  {
   "cell_type": "markdown",
   "metadata": {},
   "source": [
    "- []Circumradius different length\n",
    "- [x]Files not saved\n",
    "- []Negative theta - just anomalous results + biasedness?\n",
    "- [x]Nonsense results in estimation sometimes\n",
    "- []Estimates are not centered at the estimated value\n",
    "- []Edge length multimodality"
   ]
  },
  {
   "cell_type": "code",
   "execution_count": 313,
   "metadata": {
    "collapsed": true
   },
   "outputs": [],
   "source": [
    "dirname = 'files/Bitofboth/'\n",
    "filenames = glob.glob(dirname + 'cell_data*')\n",
    "\n",
    "data = pd.DataFrame(columns=pd.read_csv(filenames[0], sep = ';').columns)\n",
    "\n",
    "for filename in filenames:\n",
    "    newdata = pd.read_csv(filename, sep=';')\n",
    "    # print(newdata)\n",
    "    data = data.append(newdata)\n",
    "\n",
    "data['type'] = 'D+'\n",
    "# cdata = cdata.reset_index()"
   ]
  },
  {
   "cell_type": "code",
   "execution_count": 374,
   "metadata": {
    "collapsed": true
   },
   "outputs": [],
   "source": [
    "dirname = 'files/LaguerreHardcoreNew/'\n",
    "filenames = glob.glob(dirname + 'cell_data*')\n",
    "\n",
    "data = pd.DataFrame(columns=pd.read_csv(filenames[0], sep = ';').columns)\n",
    "\n",
    "for filename in filenames:\n",
    "    newdata = pd.read_csv(filename, sep=';')\n",
    "    # print(newdata)\n",
    "    data = data.append(newdata)\n",
    "\n",
    "data['type'] = 'L+'\n",
    "# cdata = cdata.reset_index()"
   ]
  },
  {
   "cell_type": "code",
   "execution_count": 383,
   "metadata": {
    "collapsed": true
   },
   "outputs": [],
   "source": [
    "dirname = 'files/DelaunayHardcoreWindow1/'\n",
    "filenames = glob.glob(dirname + 'cell_data*')\n",
    "\n",
    "data = pd.DataFrame(columns=pd.read_csv(filenames[0], sep = ';').columns)\n",
    "\n",
    "for filename in filenames:\n",
    "    newdata = pd.read_csv(filename, sep=';')\n",
    "    # print(newdata)\n",
    "    data = data.append(newdata)\n",
    "\n",
    "data['type']='D+'\n",
    "# data = data.append(cdata)\n",
    "# cdata = cdata.reset_index()"
   ]
  },
  {
   "cell_type": "code",
   "execution_count": 384,
   "metadata": {
    "collapsed": true
   },
   "outputs": [],
   "source": [
    "dirname = 'files/LaguerreHardcoreWindow1/'\n",
    "filenames = glob.glob(dirname + 'cell_data*')\n",
    "\n",
    "cdata = pd.DataFrame(columns=pd.read_csv(filenames[0], sep = ';').columns)\n",
    "\n",
    "for filename in filenames:\n",
    "    newdata = pd.read_csv(filename, sep=';')\n",
    "    # print(newdata)\n",
    "    cdata = cdata.append(newdata)\n",
    "\n",
    "cdata['type'] = 'L+'\n",
    "data = data.append(cdata)\n",
    "# cdata = cdata.reset_index()"
   ]
  },
  {
   "cell_type": "code",
   "execution_count": 385,
   "metadata": {
    "collapsed": true
   },
   "outputs": [],
   "source": [
    "cdata = data.reset_index()"
   ]
  },
  {
   "cell_type": "code",
   "execution_count": 386,
   "metadata": {
    "collapsed": true
   },
   "outputs": [],
   "source": [
    "# Convert to numeric\n",
    "cdata['cells'] = pd.to_numeric(cdata['cells'])\n",
    "cdata['vertices'] = pd.to_numeric(cdata['vertices'])\n",
    "cdata['removable'] = pd.to_numeric(cdata['removable'])"
   ]
  },
  {
   "cell_type": "code",
   "execution_count": 387,
   "metadata": {
    "collapsed": true
   },
   "outputs": [],
   "source": [
    "cdata.loc[:,'theta_est'] = pd.to_numeric(cdata.loc[:,'theta_est'])\n",
    "cdata.loc[:,'z_est'] = pd.to_numeric(cdata.loc[:,'z_est'])"
   ]
  },
  {
   "cell_type": "code",
   "execution_count": 388,
   "metadata": {
    "collapsed": false
   },
   "outputs": [
    {
     "data": {
      "text/plain": [
       "z      type  theta\n",
       "500.0  D+    -1.0     100\n",
       "             -0.5     100\n",
       "              0.5     100\n",
       "              1.0     100\n",
       "       L+    -1.0     100\n",
       "             -0.5     100\n",
       "              0.5     100\n",
       "              1.0     100\n",
       "dtype: int64"
      ]
     },
     "execution_count": 388,
     "metadata": {},
     "output_type": "execute_result"
    }
   ],
   "source": [
    "cdata.groupby(['z','type','theta']).size()"
   ]
  },
  {
   "cell_type": "code",
   "execution_count": 389,
   "metadata": {
    "collapsed": true
   },
   "outputs": [],
   "source": [
    "def listify(string):\n",
    "        strlist = string[1:-2].replace(' ','').split(',')[:-1]\n",
    "        result = [float(num) for num in strlist]\n",
    "        return(result)"
   ]
  },
  {
   "cell_type": "markdown",
   "metadata": {},
   "source": [
    "#### Filter anomalous results - were any?"
   ]
  },
  {
   "cell_type": "code",
   "execution_count": 390,
   "metadata": {
    "collapsed": false
   },
   "outputs": [
    {
     "data": {
      "text/plain": [
       "1.0"
      ]
     },
     "execution_count": 390,
     "metadata": {},
     "output_type": "execute_result"
    }
   ],
   "source": [
    "cdataf = cdata.loc[np.abs(cdata['theta_est']) < 1000]\n",
    "len(cdataf) / len(cdata) # non-anomalous / all"
   ]
  },
  {
   "cell_type": "markdown",
   "metadata": {},
   "source": [
    "### Estimation summary"
   ]
  },
  {
   "cell_type": "code",
   "execution_count": 392,
   "metadata": {
    "collapsed": true
   },
   "outputs": [],
   "source": [
    "## Only positive thetas\n",
    "cdataf = cdataf[cdataf.theta > 0 ]"
   ]
  },
  {
   "cell_type": "code",
   "execution_count": 397,
   "metadata": {
    "collapsed": false
   },
   "outputs": [
    {
     "data": {
      "text/html": [
       "<div>\n",
       "<table border=\"1\" class=\"dataframe\">\n",
       "  <thead>\n",
       "    <tr>\n",
       "      <th></th>\n",
       "      <th></th>\n",
       "      <th colspan=\"3\" halign=\"left\">alpha_est</th>\n",
       "      <th colspan=\"3\" halign=\"left\">theta_est</th>\n",
       "      <th colspan=\"3\" halign=\"left\">theta_known_z_est</th>\n",
       "      <th colspan=\"3\" halign=\"left\">z_est</th>\n",
       "      <th colspan=\"3\" halign=\"left\">z_known_theta_est</th>\n",
       "      <th colspan=\"3\" halign=\"left\">vertices</th>\n",
       "      <th colspan=\"3\" halign=\"left\">removable</th>\n",
       "    </tr>\n",
       "    <tr>\n",
       "      <th></th>\n",
       "      <th></th>\n",
       "      <th>count</th>\n",
       "      <th>mean</th>\n",
       "      <th>std</th>\n",
       "      <th>count</th>\n",
       "      <th>mean</th>\n",
       "      <th>std</th>\n",
       "      <th>count</th>\n",
       "      <th>mean</th>\n",
       "      <th>std</th>\n",
       "      <th>count</th>\n",
       "      <th>...</th>\n",
       "      <th>std</th>\n",
       "      <th>count</th>\n",
       "      <th>mean</th>\n",
       "      <th>std</th>\n",
       "      <th>count</th>\n",
       "      <th>mean</th>\n",
       "      <th>std</th>\n",
       "      <th>count</th>\n",
       "      <th>mean</th>\n",
       "      <th>std</th>\n",
       "    </tr>\n",
       "    <tr>\n",
       "      <th>type</th>\n",
       "      <th>theta</th>\n",
       "      <th></th>\n",
       "      <th></th>\n",
       "      <th></th>\n",
       "      <th></th>\n",
       "      <th></th>\n",
       "      <th></th>\n",
       "      <th></th>\n",
       "      <th></th>\n",
       "      <th></th>\n",
       "      <th></th>\n",
       "      <th></th>\n",
       "      <th></th>\n",
       "      <th></th>\n",
       "      <th></th>\n",
       "      <th></th>\n",
       "      <th></th>\n",
       "      <th></th>\n",
       "      <th></th>\n",
       "      <th></th>\n",
       "      <th></th>\n",
       "      <th></th>\n",
       "    </tr>\n",
       "  </thead>\n",
       "  <tbody>\n",
       "    <tr>\n",
       "      <th rowspan=\"2\" valign=\"top\">D+</th>\n",
       "      <th>0.5</th>\n",
       "      <td>100</td>\n",
       "      <td>0.149329</td>\n",
       "      <td>0.000687</td>\n",
       "      <td>100</td>\n",
       "      <td>1.166429</td>\n",
       "      <td>0.947769</td>\n",
       "      <td>100</td>\n",
       "      <td>0.228312</td>\n",
       "      <td>0.563860</td>\n",
       "      <td>100</td>\n",
       "      <td>...</td>\n",
       "      <td>52.151705</td>\n",
       "      <td>100</td>\n",
       "      <td>564.27343</td>\n",
       "      <td>23.556744</td>\n",
       "      <td>100</td>\n",
       "      <td>595.24</td>\n",
       "      <td>18.976924</td>\n",
       "      <td>100</td>\n",
       "      <td>538.37</td>\n",
       "      <td>23.175507</td>\n",
       "    </tr>\n",
       "    <tr>\n",
       "      <th>1.0</th>\n",
       "      <td>100</td>\n",
       "      <td>0.149461</td>\n",
       "      <td>0.000503</td>\n",
       "      <td>100</td>\n",
       "      <td>1.849576</td>\n",
       "      <td>1.036635</td>\n",
       "      <td>100</td>\n",
       "      <td>0.831618</td>\n",
       "      <td>0.624940</td>\n",
       "      <td>100</td>\n",
       "      <td>...</td>\n",
       "      <td>58.291232</td>\n",
       "      <td>100</td>\n",
       "      <td>564.66566</td>\n",
       "      <td>25.835481</td>\n",
       "      <td>100</td>\n",
       "      <td>577.32</td>\n",
       "      <td>19.278333</td>\n",
       "      <td>100</td>\n",
       "      <td>515.81</td>\n",
       "      <td>24.939804</td>\n",
       "    </tr>\n",
       "    <tr>\n",
       "      <th rowspan=\"2\" valign=\"top\">L+</th>\n",
       "      <th>0.5</th>\n",
       "      <td>100</td>\n",
       "      <td>0.154550</td>\n",
       "      <td>0.022354</td>\n",
       "      <td>100</td>\n",
       "      <td>1.205965</td>\n",
       "      <td>1.447521</td>\n",
       "      <td>100</td>\n",
       "      <td>4.063474</td>\n",
       "      <td>0.846921</td>\n",
       "      <td>100</td>\n",
       "      <td>...</td>\n",
       "      <td>41.404738</td>\n",
       "      <td>100</td>\n",
       "      <td>285.50261</td>\n",
       "      <td>16.006631</td>\n",
       "      <td>100</td>\n",
       "      <td>460.83</td>\n",
       "      <td>16.132065</td>\n",
       "      <td>100</td>\n",
       "      <td>269.36</td>\n",
       "      <td>15.710461</td>\n",
       "    </tr>\n",
       "    <tr>\n",
       "      <th>1.0</th>\n",
       "      <td>100</td>\n",
       "      <td>0.155801</td>\n",
       "      <td>0.045056</td>\n",
       "      <td>100</td>\n",
       "      <td>1.719391</td>\n",
       "      <td>1.414968</td>\n",
       "      <td>100</td>\n",
       "      <td>4.497460</td>\n",
       "      <td>0.763197</td>\n",
       "      <td>100</td>\n",
       "      <td>...</td>\n",
       "      <td>46.785214</td>\n",
       "      <td>100</td>\n",
       "      <td>290.65149</td>\n",
       "      <td>18.697643</td>\n",
       "      <td>100</td>\n",
       "      <td>451.88</td>\n",
       "      <td>16.312776</td>\n",
       "      <td>100</td>\n",
       "      <td>261.60</td>\n",
       "      <td>17.602227</td>\n",
       "    </tr>\n",
       "  </tbody>\n",
       "</table>\n",
       "<p>4 rows × 21 columns</p>\n",
       "</div>"
      ],
      "text/plain": [
       "           alpha_est                     theta_est                      \\\n",
       "               count      mean       std     count      mean       std   \n",
       "type theta                                                               \n",
       "D+   0.5         100  0.149329  0.000687       100  1.166429  0.947769   \n",
       "     1.0         100  0.149461  0.000503       100  1.849576  1.036635   \n",
       "L+   0.5         100  0.154550  0.022354       100  1.205965  1.447521   \n",
       "     1.0         100  0.155801  0.045056       100  1.719391  1.414968   \n",
       "\n",
       "           theta_known_z_est                     z_est    ...                 \\\n",
       "                       count      mean       std count    ...            std   \n",
       "type theta                                                ...                  \n",
       "D+   0.5                 100  0.228312  0.563860   100    ...      52.151705   \n",
       "     1.0                 100  0.831618  0.624940   100    ...      58.291232   \n",
       "L+   0.5                 100  4.063474  0.846921   100    ...      41.404738   \n",
       "     1.0                 100  4.497460  0.763197   100    ...      46.785214   \n",
       "\n",
       "           z_known_theta_est                       vertices          \\\n",
       "                       count       mean        std    count    mean   \n",
       "type theta                                                            \n",
       "D+   0.5                 100  564.27343  23.556744      100  595.24   \n",
       "     1.0                 100  564.66566  25.835481      100  577.32   \n",
       "L+   0.5                 100  285.50261  16.006631      100  460.83   \n",
       "     1.0                 100  290.65149  18.697643      100  451.88   \n",
       "\n",
       "                      removable                     \n",
       "                  std     count    mean        std  \n",
       "type theta                                          \n",
       "D+   0.5    18.976924       100  538.37  23.175507  \n",
       "     1.0    19.278333       100  515.81  24.939804  \n",
       "L+   0.5    16.132065       100  269.36  15.710461  \n",
       "     1.0    16.312776       100  261.60  17.602227  \n",
       "\n",
       "[4 rows x 21 columns]"
      ]
     },
     "execution_count": 397,
     "metadata": {},
     "output_type": "execute_result"
    }
   ],
   "source": [
    "estimates = cdataf.groupby(['type','theta'])['alpha_est','theta_est','theta_known_z_est', 'z_est', 'z_known_theta_est','vertices','removable'].agg(['count', 'mean','std'])\n",
    "estimates"
   ]
  },
  {
   "cell_type": "markdown",
   "metadata": {},
   "source": [
    "### LaTeX table prep"
   ]
  },
  {
   "cell_type": "code",
   "execution_count": 402,
   "metadata": {
    "collapsed": false,
    "scrolled": false
   },
   "outputs": [
    {
     "name": "stdout",
     "output_type": "stream",
     "text": [
      "\\begin{table*}\\centering\n",
      "\\ra{1.3}\n",
      "\\begin{tabular}{lrlllllll}\\toprule\n",
      "&& \\multicolumn{1}{c}{$\\hat\\alpha$}& \\multicolumn{2}{c}{$\\hat\\theta$} & \\multicolumn{2}{c}{$\\hat z$} & \\multicolumn{2}{c}{Vertices} \\\\ \n",
      "\\cmidrule(lr){3-3} \\cmidrule(lr){4-5} \\cmidrule(lr){6-7} \\cmidrule(lr){8-9} \n",
      "\n",
      "& $\\theta$ &  &  $z$ unknown & $z$ known & $\\theta$ unknown & $\\theta$ known & All & Removable  \\\\\n",
      "\\midrule\n",
      "\\texttt{D+} \\\\\n",
      " & 0.5 &  0.14933 &  1.16643 &  0.22831 &  595.83387 &  564.27343 &  595.24 &  538.37 \\\\\n",
      " &  &  (0.00069) &  (0.94777) &  (0.56386) &  (52.15171) &  (23.55674) &  (18.98) &  (23.18) \\\\\n",
      " & 1.0 &  0.14946 &  1.84958 &  0.83162 &  605.18565 &  564.66566 &  577.32 &  515.81 \\\\\n",
      " &  &  (0.00050) &  (1.03663) &  (0.62494) &  (58.29123) &  (25.83548) &  (19.28) &  (24.94) \\\\\n",
      "\\texttt{L+} \\\\\n",
      " & 0.5 &  0.15455 &  1.20596 &  4.06347 &  306.40235 &  285.50261 &  460.83 &  269.36 \\\\\n",
      " &  &  (0.02235) &  (1.44752) &  (0.84692) &  (41.40474) &  (16.00663) &  (16.13) &  (15.71) \\\\\n",
      " & 1.0 &  0.15580 &  1.71939 &  4.49746 &  312.60278 &  290.65149 &  451.88 &  261.60 \\\\\n",
      " &  &  (0.04506) &  (1.41497) &  (0.76320) &  (46.78521) &  (18.69764) &  (16.31) &  (17.60) \\\\\n",
      "\\bottomrule\n",
      "\\end{tabular}\n",
      "\\caption{Facet statistics}\n",
      "\\end{table*}\n"
     ]
    }
   ],
   "source": [
    "print(r\"\"\"\\begin{table*}\\centering\n",
    "\\ra{1.3}\n",
    "\\begin{tabular}{lrlllllll}\\toprule\n",
    "&& \\multicolumn{1}{c}{$\\hat\\alpha$}& \\multicolumn{2}{c}{$\\hat\\theta$} & \\multicolumn{2}{c}{$\\hat z$} & \\multicolumn{2}{c}{Vertices} \\\\ \n",
    "\\cmidrule(lr){3-3} \\cmidrule(lr){4-5} \\cmidrule(lr){6-7} \\cmidrule(lr){8-9} \n",
    "\n",
    "& $\\theta$ &  &  $z$ unknown & $z$ known & $\\theta$ unknown & $\\theta$ known & All & Removable  \\\\\n",
    "\\midrule\"\"\")\n",
    "\n",
    "\n",
    "for typ,df_ty in estimates.groupby(level=0):\n",
    "    print(r'\\texttt{' + typ + r'} \\\\')\n",
    "    for theta,df_th in df_ty.groupby(level=1):\n",
    "        print(' & ' + str(theta) \n",
    "              + ' &  {0:.5f}'.format(estimates.loc[(typ,theta),('alpha_est', 'mean')])\n",
    "              + ' &  {0:.5f}'.format(estimates.loc[(typ,theta),('theta_est', 'mean')])\n",
    "              + ' &  {0:.5f}'.format(estimates.loc[(typ,theta),('theta_known_z_est', 'mean')])\n",
    "              + ' &  {0:.5f}'.format(estimates.loc[(typ,theta),('z_est', 'mean')])\n",
    "              + ' &  {0:.5f}'.format(estimates.loc[(typ,theta),('z_known_theta_est', 'mean')])\n",
    "              + ' &  {0:.2f}'.format(estimates.loc[(typ,theta),('vertices', 'mean')])\n",
    "              + ' &  {0:.2f}'.format(estimates.loc[(typ,theta),('removable', 'mean')])\n",
    "              + r' \\\\')\n",
    "        print(' & ' \n",
    "              + ' &  ({0:.5f}'.format(estimates.loc[(typ,theta),('alpha_est', 'std')])\n",
    "              + ') &  ({0:.5f}'.format(estimates.loc[(typ,theta),('theta_est', 'std')])\n",
    "              + ') &  ({0:.5f}'.format(estimates.loc[(typ,theta),('theta_known_z_est', 'std')])\n",
    "              + ') &  ({0:.5f}'.format(estimates.loc[(typ,theta),('z_est', 'std')])\n",
    "              + ') &  ({0:.5f}'.format(estimates.loc[(typ,theta),('z_known_theta_est', 'std')])\n",
    "              + ') &  ({0:.2f}'.format(estimates.loc[(typ,theta),('vertices', 'std')])\n",
    "              + ') &  ({0:.2f}'.format(estimates.loc[(typ,theta),('removable', 'std')])\n",
    "              + r') \\\\')\n",
    "        \n",
    "        \n",
    "        \n",
    "print(r\"\"\"\\bottomrule\n",
    "\\end{tabular}\n",
    "\\caption{Facet statistics}\n",
    "\\end{table*}\"\"\")"
   ]
  },
  {
   "cell_type": "code",
   "execution_count": 220,
   "metadata": {
    "collapsed": false
   },
   "outputs": [
    {
     "data": {
      "text/plain": [
       "type  theta\n",
       "D+    -1.0     591.71\n",
       "      -0.5     575.28\n",
       "       0.5     538.37\n",
       "       1.0     515.81\n",
       "L+    -1.0     303.69\n",
       "      -0.5     290.14\n",
       "       0.5     269.36\n",
       "       1.0     261.60\n",
       "Name: removable, dtype: float64"
      ]
     },
     "execution_count": 220,
     "metadata": {},
     "output_type": "execute_result"
    }
   ],
   "source": [
    "cdataf.groupby(['type','theta'])['removable'].mean()"
   ]
  },
  {
   "cell_type": "code",
   "execution_count": 429,
   "metadata": {
    "collapsed": false
   },
   "outputs": [
    {
     "name": "stdout",
     "output_type": "stream",
     "text": [
      "$\\hat\\alpha$ 0.48733 (0.81100)\n",
      "$\\hat\\theta$ 1.9665 (3.5907)\n",
      "$\\hat\\theta$ with $z$ known 2.3968 (3.7597)\n",
      "$\\hat z$ 520.15 (168.84)\n"
     ]
    }
   ],
   "source": [
    "print(r'$\\hat\\alpha$ ' + '{0:.5f}'.format(np.mean(cdata['alpha_est'])) + ' (' + '{0:.5f}'.format(np.std(cdata['alpha_est'])) + ')' )\n",
    "print(r'$\\hat\\theta$ ' + '{0:.4f}'.format(np.mean(cdata['theta_est'])) + ' (' + '{0:.4f}'.format(np.std(cdata['theta_est'])) + ')')\n",
    "print(r'$\\hat\\theta$ with $z$ known ' +'{0:.4f}'.format(np.mean(cdata['theta_known_z_est'])) + ' (' + '{0:.4f}'.format(np.std(cdata['theta_known_z_est'])) + ')' )\n",
    "print(r'$\\hat z$ ' +'{0:.2f}'.format(np.mean(cdata['z_est'])) + ' (' + '{0:.2f}'.format(np.std(cdata['z_est'])) + ')' )\n"
   ]
  },
  {
   "cell_type": "markdown",
   "metadata": {},
   "source": [
    "### Estimates summary plot for a single $\\theta$"
   ]
  },
  {
   "cell_type": "markdown",
   "metadata": {},
   "source": [
    "#### For all combinations"
   ]
  },
  {
   "cell_type": "code",
   "execution_count": 101,
   "metadata": {
    "collapsed": false
   },
   "outputs": [],
   "source": [
    "for idx,df_s in cdataf.groupby(['theta','type']):\n",
    "    theta = idx[0]\n",
    "    typ = idx[1]\n",
    "    cdataft = cdataf.loc[(cdataf['theta']== theta) & (cdataf['type'] == typ)]\n",
    "    \n",
    "    plt.subplot(2,3,1)\n",
    "    plt.title(r'$\\hat\\alpha$')\n",
    "    plt.hist(cdataft['alpha_est'],  bins = np.linspace(0.148,0.15,10),color='C0', edgecolor='white', linewidth=0.5)\n",
    "\n",
    "    plt.subplot(2,3,2)\n",
    "    plt.title(r'$\\hat\\theta$')\n",
    "    plt.hist(cdataft['theta_est'], color='C0', edgecolor='white', linewidth=0.5)\n",
    "    # plt.xticks([0, 1, 2])\n",
    "\n",
    "    plt.subplot(2,3,3)\n",
    "    plt.title(r'$\\hat\\theta$ with $z$ known')\n",
    "    plt.hist(cdataft['theta_known_z_est'], color='C0', edgecolor='white', linewidth=0.5)\n",
    "    # plt.xticks([0, 1, 2])\n",
    "\n",
    "    plt.subplot(2,3,4)\n",
    "    plt.title(r'$\\hat z$ with $\\theta$ known')\n",
    "    plt.hist(cdataft['z_known_theta_est'], color='C0', edgecolor='white', linewidth=0.5)\n",
    "    # plt.xticks([400, 500, 600])\n",
    "\n",
    "\n",
    "    plt.subplot(2,3,5)\n",
    "    plt.title(r'$\\hat z$')\n",
    "    plt.hist(cdataft['z_est'], color='C0', edgecolor='white', linewidth=0.5)\n",
    "    # plt.xticks([400, 500, 600])\n",
    "\n",
    "    plt.subplot(2,3,6)\n",
    "    plt.title(r'scatterplot of $(\\hat\\theta,\\hat z)$')\n",
    "    plt.scatter(cdataft['theta_est'], cdataft['z_est'], color = 'C0', alpha=0.9, s=0.8)\n",
    "\n",
    "    plt.tight_layout()\n",
    "    #plt.show()\n",
    "\n",
    "    plt.savefig('estimation - type_' + str(typ) + '_theta_' + str(theta) + '.pdf')\n",
    "    plt.close()"
   ]
  },
  {
   "cell_type": "markdown",
   "metadata": {},
   "source": [
    "#### Only one"
   ]
  },
  {
   "cell_type": "code",
   "execution_count": 311,
   "metadata": {
    "collapsed": true
   },
   "outputs": [],
   "source": [
    "theta = 0.5\n",
    "typ = 'L+'"
   ]
  },
  {
   "cell_type": "code",
   "execution_count": 312,
   "metadata": {
    "collapsed": false
   },
   "outputs": [
    {
     "data": {
      "image/png": "[encoded data removed]",
      "text/plain": [
       "<matplotlib.figure.Figure at 0x224af8fb748>"
      ]
     },
     "metadata": {},
     "output_type": "display_data"
    }
   ],
   "source": [
    "cdataft = cdataf.loc[(cdataf['theta']== theta) & (cdataf['type'] == typ)]\n",
    "z = cdataft['z'].iloc[0]\n",
    "\n",
    "plt.rcParams.update({'font.size': 14})\n",
    "\n",
    "plt.figure(figsize=(20,10))\n",
    "\n",
    "plt.subplot(2,3,1)\n",
    "plt.title(r'$\\hat\\alpha$')\n",
    "plt.hist(cdataft['alpha_est'],  bins = np.linspace(0.148,0.15,10),color='C0', edgecolor='white', linewidth=0.5)\n",
    "plt.locator_params(nbins=6)\n",
    "\n",
    "plt.subplot(2,3,2)\n",
    "plt.title(r'$\\hat\\theta$')\n",
    "plt.hist(cdataft['theta_est'], color='C0', edgecolor='white', linewidth=0.5)\n",
    "plt.axvline(x=theta, c='r')\n",
    "plt.locator_params(nbins=6)\n",
    "# plt.xticks([0, 1, 2])\n",
    "\n",
    "plt.subplot(2,3,3)\n",
    "plt.title(r'$\\hat\\theta$ with $z$ known')\n",
    "plt.hist(cdataft['theta_known_z_est'], color='C0', edgecolor='white', linewidth=0.5)\n",
    "plt.axvline(x=theta, c='r')\n",
    "plt.locator_params(nbins=6)\n",
    "# plt.xticks([0, 1, 2])\n",
    "\n",
    "plt.subplot(2,3,4)\n",
    "plt.title(r'$\\hat z$ with $\\theta$ known')\n",
    "plt.hist(cdataft['z_known_theta_est'], color='C0', edgecolor='white', linewidth=0.5)\n",
    "plt.axvline(x=z, c='r')\n",
    "plt.locator_params(nbins=6)\n",
    "# plt.xticks([400, 500, 600])\n",
    "\n",
    "\n",
    "plt.subplot(2,3,5)\n",
    "plt.title(r'$\\hat z$')\n",
    "plt.hist(cdataft['z_est'], color='C0', edgecolor='white', linewidth=0.5)\n",
    "plt.axvline(x=z, c='r')\n",
    "plt.locator_params(nbins=6)\n",
    "\n",
    "plt.subplot(2,3,6)\n",
    "plt.title(r'scatterplot of $(\\hat\\theta,\\hat z)$')\n",
    "plt.scatter(cdataft['theta_est'], cdataft['z_est'], color = 'C0', alpha=0.9, s=4)\n",
    "\n",
    "plt.tight_layout()\n",
    "plt.show()\n",
    "\n",
    "#plt.savefig('estimation - type_' + str(typ) + '_theta_' + str(theta).replace('.','') + '.pdf')\n",
    "plt.close()"
   ]
  },
  {
   "cell_type": "code",
   "execution_count": 164,
   "metadata": {
    "collapsed": false
   },
   "outputs": [
    {
     "name": "stdout",
     "output_type": "stream",
     "text": [
      "$\\hat\\alpha$ 1.40552 (0.82092)\n",
      "$\\hat\\theta$ 1.1442 (1.0133)\n",
      "$\\hat\\theta$ with $z$ known 1.1715 (0.7238)\n",
      "$\\hat z$ 490.47 (65.53)\n"
     ]
    }
   ],
   "source": [
    "print(r'$\\hat\\alpha$ ' + '{0:.5f}'.format(np.mean(cdataft['alpha_est'])) + ' (' + '{0:.5f}'.format(np.std(cdataft['alpha_est'])) + ')' )\n",
    "print(r'$\\hat\\theta$ ' + '{0:.4f}'.format(np.mean(cdataft['theta_est'])) + ' (' + '{0:.4f}'.format(np.std(cdataft['theta_est'])) + ')')\n",
    "print(r'$\\hat\\theta$ with $z$ known ' +'{0:.4f}'.format(np.mean(cdataft['theta_known_z_est'])) + ' (' + '{0:.4f}'.format(np.std(cdataft['theta_known_z_est'])) + ')' )\n",
    "print(r'$\\hat z$ ' +'{0:.2f}'.format(np.mean(cdataft['z_est'])) + ' (' + '{0:.2f}'.format(np.std(cdataft['z_est'])) + ')' )\n"
   ]
  },
  {
   "cell_type": "markdown",
   "metadata": {},
   "source": [
    "### Facets distribution - one plot"
   ]
  },
  {
   "cell_type": "markdown",
   "metadata": {},
   "source": [
    "#### All type-theta combinations"
   ]
  },
  {
   "cell_type": "code",
   "execution_count": 104,
   "metadata": {
    "collapsed": false
   },
   "outputs": [],
   "source": [
    "for idx, df_s in cdataf.groupby(['theta','type']):\n",
    "    theta = idx[0]\n",
    "    typ = idx[1]\n",
    "    cdataft = cdataf.loc[(cdataf['theta']== theta) & (cdataf['type'] == typ)].iloc[2]\n",
    "    \n",
    "    volumesA = listify(cdataft.tetra_volume)\n",
    "    circumA = listify(cdataft.tetra_circum)\n",
    "    tsurfA = listify(cdataft.tetra_surface)\n",
    "    surfA = listify(cdataft.face_surf)\n",
    "    lengthA = listify(cdataft.edge_length)\n",
    "    degreeA = listify(cdataft.point_degree)\n",
    "\n",
    "    plt.subplot(2,3,1)\n",
    "    bins = np.linspace(0,0.002,40)\n",
    "    plt.hist(volumesA, color='C0', edgecolor='white', linewidth=0.5)\n",
    "    plt.xlabel(\"Volume\")\n",
    "    plt.axvline(x=np.mean(volumesA), c='r')\n",
    "    #plt.ylabel(\"Density\")\n",
    "    plt.title('Cell volume')\n",
    "    plt.locator_params(nbins=4)\n",
    "\n",
    "    plt.subplot(2,3,2)\n",
    "    bins = np.linspace(0,0.3,40)\n",
    "    plt.hist(tsurfA, color='C0', edgecolor='white', linewidth=0.5)\n",
    "    plt.xlabel(\"Surface\")\n",
    "    plt.axvline(x=np.mean(tsurfA), c='r')\n",
    "    #plt.ylabel(\"Density\")\n",
    "    plt.title('Cell surface')\n",
    "    plt.locator_params(nbins=4)\n",
    "\n",
    "    plt.subplot(2,3,3)\n",
    "    bins = np.linspace(0,0.3,40)\n",
    "    plt.hist(circumA, color='C0', edgecolor='white', linewidth=0.5)\n",
    "    plt.xlabel(\"Circumradius\")\n",
    "    plt.axvline(x=np.mean(circumA), c='r')\n",
    "    #plt.ylabel(\"Density\")\n",
    "    plt.title('Cell circumradius')\n",
    "    plt.locator_params(nbins=4)\n",
    "\n",
    "    plt.subplot(2,3,4)\n",
    "    bins_surf = np.linspace(0.0004,0.04,40)\n",
    "    plt.hist(surfA, color='C0', edgecolor='white', linewidth=0.5)\n",
    "    plt.xlabel(\"Surface\")\n",
    "    plt.axvline(x=np.mean(surfA), c='r')\n",
    "    #plt.ylabel(\"Density\")\n",
    "    plt.title('Face surface')\n",
    "    plt.locator_params(nbins=4)\n",
    "\n",
    "    plt.subplot(2,3,5)\n",
    "    bins_length = np.linspace(0.01,0.4,40)\n",
    "    plt.hist(lengthA, color='C0', edgecolor='white', linewidth=0.5)\n",
    "    plt.xlabel(\"Length\")\n",
    "    plt.axvline(x=np.mean(lengthA), c='r')\n",
    "    #plt.ylabel(\"Density\")\n",
    "    plt.title('Edge length')\n",
    "    plt.locator_params(nbins=6)\n",
    "\n",
    "    plt.subplot(2,3,6)\n",
    "    bins_deg = np.linspace(0,35,30)\n",
    "    plt.hist(degreeA, color='C0', edgecolor='white', linewidth=0.5)\n",
    "    plt.xlabel(\"Degree\")\n",
    "    plt.axvline(x=np.mean(degreeA), c='r')\n",
    "    #plt.ylabel(\"Density\")\n",
    "    plt.title('Vertex degree')\n",
    "    plt.locator_params(nbins=6)\n",
    "\n",
    "    plt.tight_layout()\n",
    "    # plt.show()\n",
    "\n",
    "    plt.savefig('facets - type_' + str(typ) + '_theta_' + str(theta) + '.pdf')\n",
    "    plt.close()"
   ]
  },
  {
   "cell_type": "markdown",
   "metadata": {},
   "source": [
    "#### One theta"
   ]
  },
  {
   "cell_type": "code",
   "execution_count": 323,
   "metadata": {
    "collapsed": true
   },
   "outputs": [],
   "source": [
    "theta = 0.01\n",
    "typ = 'D+'"
   ]
  },
  {
   "cell_type": "code",
   "execution_count": null,
   "metadata": {
    "collapsed": true
   },
   "outputs": [],
   "source": [
    "plt.rcParams.update({'font.size': 14})\n",
    "\n",
    "plt.figure(figsize=(20,10))\n",
    "\n",
    "\n",
    "cdataft = cdataf.loc[(cdataf['theta']== theta) & (cdataf['type'] == typ)].iloc[2]\n",
    "\n",
    "volumesA = listify(cdataft.tetra_volume)\n",
    "circumA = listify(cdataft.tetra_circum)\n",
    "tsurfA = listify(cdataft.tetra_surface)\n",
    "surfA = listify(cdataft.face_surf)\n",
    "lengthA = listify(cdataft.edge_length)\n",
    "degreeA = listify(cdataft.point_degree)\n",
    "\n",
    "\n",
    "plt.subplot(2,3,1)\n",
    "bins = np.linspace(0,0.002,40)\n",
    "plt.hist(volumesA, color='C0', edgecolor='white', linewidth=0.5)\n",
    "plt.xlabel(\"Volume\")\n",
    "plt.axvline(x=np.mean(volumesA), c='r')\n",
    "#plt.ylabel(\"Density\")\n",
    "plt.title('Cell volume')\n",
    "plt.locator_params(nbins=3)\n",
    "\n",
    "plt.subplot(2,3,2)\n",
    "bins = np.linspace(0,0.3,40)\n",
    "plt.hist(tsurfA, color='C0', edgecolor='white', linewidth=0.5)\n",
    "plt.xlabel(\"Surface\")\n",
    "plt.axvline(x=np.mean(tsurfA), c='r')\n",
    "#plt.ylabel(\"Density\")\n",
    "plt.title('Cell surface')\n",
    "plt.locator_params(nbins=4)\n",
    "\n",
    "plt.subplot(2,3,3)\n",
    "bins = np.linspace(0,0.3,40)\n",
    "plt.hist(circumA, color='C0', edgecolor='white', linewidth=0.5)\n",
    "plt.xlabel(\"Circumradius\")\n",
    "plt.axvline(x=np.mean(circumA), c='r')\n",
    "#plt.ylabel(\"Density\")\n",
    "plt.title('Cell circumradius')\n",
    "plt.locator_params(nbins=4)\n",
    "\n",
    "plt.subplot(2,3,4)\n",
    "bins_surf = np.linspace(0.0004,0.04,40)\n",
    "plt.hist(surfA, color='C0', edgecolor='white', linewidth=0.5)\n",
    "plt.xlabel(\"Surface\")\n",
    "plt.axvline(x=np.mean(surfA), c='r')\n",
    "#plt.ylabel(\"Density\")\n",
    "plt.title('Face surface')\n",
    "plt.locator_params(nbins=4)\n",
    "\n",
    "plt.subplot(2,3,5)\n",
    "bins_length = np.linspace(0.01,0.4,40)\n",
    "plt.hist(lengthA, color='C0', edgecolor='white', linewidth=0.5)\n",
    "plt.xlabel(\"Length\")\n",
    "plt.axvline(x=np.mean(lengthA), c='r')\n",
    "#plt.ylabel(\"Density\")\n",
    "plt.title('Edge length')\n",
    "plt.locator_params(nbins=4)\n",
    "\n",
    "plt.subplot(2,3,6)\n",
    "bins_deg = np.linspace(0,35,30)\n",
    "plt.hist(degreeA, color='C0', edgecolor='white', linewidth=0.5)\n",
    "plt.xlabel(\"Degree\")\n",
    "plt.axvline(x=np.mean(degreeA), c='r')\n",
    "#plt.ylabel(\"Density\")\n",
    "plt.title('Vertex degree')\n",
    "plt.locator_params(nbins=4)\n",
    "\n",
    "plt.tight_layout()\n",
    "plt.show()\n",
    "\n",
    "# plt.savefig('facets - type_' + str(typ) + '_theta_' + str(theta) + '.pdf')\n",
    "plt.close()"
   ]
  },
  {
   "cell_type": "markdown",
   "metadata": {},
   "source": [
    "### Poisson comparison"
   ]
  },
  {
   "cell_type": "code",
   "execution_count": 327,
   "metadata": {
    "collapsed": true
   },
   "outputs": [],
   "source": [
    "theta = 0.01\n",
    "type = 'D+'"
   ]
  },
  {
   "cell_type": "code",
   "execution_count": 334,
   "metadata": {
    "collapsed": true
   },
   "outputs": [],
   "source": [
    "intensity = cdata.z[cdata.theta==0.01].iloc[0]"
   ]
  },
  {
   "cell_type": "code",
   "execution_count": 343,
   "metadata": {
    "collapsed": false
   },
   "outputs": [],
   "source": [
    "## Poisson statistics\n",
    "Evolume = 35/(24*math.pi**2 * intensity)\n",
    "Eface = 0.597*(intensity**(-2/3))\n",
    "Eedge = 1.237*(intensity**(-1/3))\n",
    "Edegree = 15.535"
   ]
  },
  {
   "cell_type": "code",
   "execution_count": 356,
   "metadata": {
    "collapsed": false
   },
   "outputs": [],
   "source": [
    "plt.rcParams.update({'font.size': 14})\n",
    "\n",
    "plt.figure(figsize=(20,10))\n",
    "\n",
    "\n",
    "cdataft = cdataf.loc[(cdataf['theta']== theta) & (cdataf['type'] == typ)].iloc[4]\n",
    "\n",
    "volumesA = listify(cdataft.tetra_volume)\n",
    "circumA = listify(cdataft.tetra_circum)\n",
    "tsurfA = listify(cdataft.tetra_surface)\n",
    "surfA = listify(cdataft.face_surf)\n",
    "lengthA = listify(cdataft.edge_length)\n",
    "degreeA = listify(cdataft.point_degree)\n",
    "\n",
    "\n",
    "plt.subplot(2,2,1)\n",
    "bins = np.linspace(0,0.002,40)\n",
    "plt.hist(volumesA, color='C0', edgecolor='white', linewidth=0.5)\n",
    "plt.xlabel(\"Volume\")\n",
    "plt.axvline(x=np.mean(volumesA), c='r', linewidth=3)\n",
    "plt.axvline(x=Evolume,c='C6', linewidth=3)\n",
    "#plt.ylabel(\"Density\")\n",
    "plt.title('Cell volume')\n",
    "plt.locator_params(nbins=3)\n",
    "\n",
    "\n",
    "\n",
    "plt.subplot(2,2,2)\n",
    "bins_surf = np.linspace(0.0004,0.04,40)\n",
    "plt.hist(surfA, color='C0', edgecolor='white', linewidth=0.5)\n",
    "plt.xlabel(\"Surface\")\n",
    "plt.axvline(x=np.mean(surfA), c='r', linewidth=3)\n",
    "plt.axvline(x=Eface,c='C6', linewidth=3)\n",
    "#plt.ylabel(\"Density\")\n",
    "plt.title('Face surface')\n",
    "plt.locator_params(nbins=4)\n",
    "\n",
    "plt.subplot(2,2,3)\n",
    "bins_length = np.linspace(0.01,0.4,40)\n",
    "plt.hist(lengthA, color='C0', edgecolor='white', linewidth=0.5)\n",
    "plt.xlabel(\"Length\")\n",
    "plt.axvline(x=np.mean(lengthA), c='r', linewidth=3)\n",
    "plt.axvline(x=Eedge,c='C6', linewidth=3)\n",
    "#plt.ylabel(\"Density\")\n",
    "plt.title('Edge length')\n",
    "plt.locator_params(nbins=4)\n",
    "\n",
    "plt.subplot(2,2,4)\n",
    "bins_deg = np.linspace(0,35,30)\n",
    "plt.hist(degreeA, color='C0', edgecolor='white', linewidth=0.5)\n",
    "plt.xlabel(\"Degree\")\n",
    "plt.axvline(x=np.mean(degreeA), c='r', linewidth=3)\n",
    "plt.axvline(x=Edegree,c='C6', linewidth=3)\n",
    "#plt.ylabel(\"Density\")\n",
    "plt.title('Vertex degree')\n",
    "plt.locator_params(nbins=4)\n",
    "\n",
    "plt.tight_layout()\n",
    "# plt.show()\n",
    "\n",
    "plt.savefig('facets - type_' + str(typ) + '_theta_' + str(theta) + '.pdf')\n",
    "plt.close()"
   ]
  },
  {
   "cell_type": "markdown",
   "metadata": {},
   "source": [
    "### Facets distribution - Comparison plot"
   ]
  },
  {
   "cell_type": "markdown",
   "metadata": {},
   "source": [
    "By $\\theta$"
   ]
  },
  {
   "cell_type": "code",
   "execution_count": 185,
   "metadata": {
    "collapsed": false
   },
   "outputs": [],
   "source": [
    "typ = 'L+'\n",
    "thetaA = 1\n",
    "thetaB = -1\n",
    "\n",
    "labelA = str(thetaA)\n",
    "labelB = str(thetaB)"
   ]
  },
  {
   "cell_type": "code",
   "execution_count": 186,
   "metadata": {
    "collapsed": true
   },
   "outputs": [],
   "source": [
    "cdataA = cdataf.loc[(cdataf['type'] == typ) & (cdataf['theta']==thetaA),].iloc[1]\n",
    "cdataB = cdataf.loc[(cdataf['type'] == typ) & (cdataf['theta']==thetaB),].iloc[1]\n"
   ]
  },
  {
   "cell_type": "markdown",
   "metadata": {},
   "source": [
    "#### By type"
   ]
  },
  {
   "cell_type": "code",
   "execution_count": 179,
   "metadata": {
    "collapsed": true
   },
   "outputs": [],
   "source": [
    "theta = 1\n",
    "typA = 'L+'\n",
    "typB = 'D+'\n",
    "\n",
    "labelA = str(typA)\n",
    "labelB = str(typB)"
   ]
  },
  {
   "cell_type": "code",
   "execution_count": 180,
   "metadata": {
    "collapsed": false
   },
   "outputs": [],
   "source": [
    "cdataA = cdataf.loc[(cdataf['type'] == typA) & (cdataf['theta']==theta),].iloc[0]\n",
    "cdataB = cdataf.loc[(cdataf['type'] == typB) & (cdataf['theta']==theta),].iloc[0]\n"
   ]
  },
  {
   "cell_type": "markdown",
   "metadata": {},
   "source": [
    "---"
   ]
  },
  {
   "cell_type": "code",
   "execution_count": 187,
   "metadata": {
    "collapsed": true
   },
   "outputs": [],
   "source": [
    "volumesA = listify(cdataA.tetra_volume)\n",
    "volumesB = listify(cdataB.tetra_volume)\n",
    "\n",
    "circumA = listify(cdataA.tetra_circum)\n",
    "circumB = listify(cdataB.tetra_circum)\n",
    "\n",
    "tsurfA = listify(cdataA.tetra_surface)\n",
    "tsurfB = listify(cdataB.tetra_surface)\n",
    "\n",
    "surfA = listify(cdataA.face_surf)\n",
    "surfB = listify(cdataB.face_surf)\n",
    "\n",
    "lengthA = listify(cdataA.edge_length)\n",
    "lengthB = listify(cdataB.edge_length)\n",
    "\n",
    "degreeA = listify(cdataA.point_degree)\n",
    "degreeB = listify(cdataB.point_degree)"
   ]
  },
  {
   "cell_type": "markdown",
   "metadata": {},
   "source": [
    "### Plot"
   ]
  },
  {
   "cell_type": "code",
   "execution_count": 190,
   "metadata": {
    "collapsed": false
   },
   "outputs": [
    {
     "data": {
      "image/png": "[encoded data removed]",
      "text/plain": [
       "<matplotlib.figure.Figure at 0x224afb6e3c8>"
      ]
     },
     "metadata": {},
     "output_type": "display_data"
    }
   ],
   "source": [
    "plt.rcParams.update({'font.size': 14})\n",
    "\n",
    "plt.figure(figsize=(20,10))\n",
    "\n",
    "\n",
    "plt.subplot(2,3,1)\n",
    "\n",
    "plt.hist([volumesA,volumesB],  label=[labelA, labelB], color=['C0','C3'], edgecolor='white', linewidth=0.5)\n",
    "plt.legend(loc='upper right',prop={'size': 15})\n",
    "plt.xlabel(\"Volume\")\n",
    "#plt.ylabel(\"Density\")\n",
    "plt.title('Cell volume')\n",
    "plt.locator_params(nbins=3)\n",
    "\n",
    "plt.subplot(2,3,2)\n",
    "bins_tsurf = np.linspace(0,0.1,10)\n",
    "plt.hist([tsurfA,tsurfB], label=[labelA,labelB], color=['C0','C3'], edgecolor='white', linewidth=0.5)\n",
    "plt.legend(loc='upper right',prop={'size': 15})\n",
    "plt.xlabel(\"Surface\")\n",
    "#plt.ylabel(\"Density\")\n",
    "plt.title('Cell surface')\n",
    "plt.locator_params(nbins=3)\n",
    "\n",
    "plt.subplot(2,3,3)\n",
    "bins_circum = np.linspace(0.03,0.2,10)\n",
    "plt.hist([circumA,circumB], label=[labelA,labelB], color=['C0','C3'], edgecolor='white', linewidth=0.5)\n",
    "plt.legend(loc='upper right',prop={'size': 15})\n",
    "plt.xlabel(\"Circumradius\")\n",
    "#plt.ylabel(\"Density\")\n",
    "plt.title('Cell circumradius')\n",
    "plt.locator_params(nbins=3)\n",
    "\n",
    "\n",
    "plt.subplot(2,3,4)\n",
    "bins_surf = np.linspace(0.0003,0.03,10)\n",
    "plt.hist([surfA,surfB], label=[labelA,labelB], color=['C0','C3'], edgecolor='white', linewidth=0.5)\n",
    "plt.legend(loc='upper right',prop={'size': 15})\n",
    "plt.xlabel(\"Surface\")\n",
    "#plt.ylabel(\"Density\")\n",
    "plt.title('Face surface')\n",
    "plt.locator_params(nbins=3)\n",
    "\n",
    "\n",
    "plt.subplot(2,3,5)\n",
    "bins_length = np.linspace(0.01,0.35,10)\n",
    "plt.hist([lengthA,lengthB], label=[labelA, labelB], color=['C0','C3'], edgecolor='white', linewidth=0.5)\n",
    "plt.legend(loc='upper right',prop={'size': 15})\n",
    "plt.xlabel(\"Length\")\n",
    "#plt.ylabel(\"Density\")\n",
    "plt.title('Edge length')\n",
    "plt.locator_params(nbins=3)\n",
    "\n",
    "plt.subplot(2,3,6)\n",
    "bins_deg = np.linspace(0,35,10)\n",
    "plt.hist([degreeA,degreeB], label=[labelA, labelB], color=['C0','C3'], edgecolor='white', linewidth=0.5)\n",
    "plt.legend(loc='upper right',prop={'size': 15})\n",
    "plt.xlabel(\"Degree\")\n",
    "#plt.ylabel(\"Density\")\n",
    "plt.title('Vertex degree')\n",
    "plt.locator_params(nbins=3)\n",
    "\n",
    "plt.tight_layout()\n",
    "plt.show()\n",
    "\n",
    "# plt.savefig('facets_' + labelA + '_' + labelB + '.pdf')\n",
    "plt.close()"
   ]
  },
  {
   "cell_type": "markdown",
   "metadata": {},
   "source": [
    "### Summary stats table prep"
   ]
  },
  {
   "cell_type": "markdown",
   "metadata": {},
   "source": [
    "#### All types+thetas"
   ]
  },
  {
   "cell_type": "code",
   "execution_count": 224,
   "metadata": {
    "collapsed": false
   },
   "outputs": [
    {
     "name": "stdout",
     "output_type": "stream",
     "text": [
      "(-1.0, 'D+')\n",
      "(-1.0, 'L+')\n",
      "(-0.5, 'D+')\n",
      "(-0.5, 'L+')\n",
      "(0.5, 'D+')\n",
      "(0.5, 'L+')\n",
      "(1.0, 'D+')\n",
      "(1.0, 'L+')\n"
     ]
    }
   ],
   "source": [
    "theta = 1\n",
    "results = pd.DataFrame(columns=['model', 'theta', 'Cell volume','Cell circumradius','Cell surface', 'Face surface', 'Edge length', 'Vertex degree', 'Cell count', 'Vertex count'])\n",
    "\n",
    "for idx,df_s in cdataf.groupby(['theta','type']):\n",
    "    print(idx)\n",
    "    theta = idx[0]\n",
    "    typA = idx[1]\n",
    "    cdatasub = cdataf.loc[(cdataf['type'] == typA) & (cdataf['theta']==theta),]\n",
    "    for i in range(len(cdatasub)):  \n",
    "        cdataA = cdatasub.iloc[i]\n",
    "\n",
    "        volumesA = listify(cdataA.tetra_volume)\n",
    "        circumA = listify(cdataA.tetra_circum)\n",
    "        tsurfA = listify(cdataA.tetra_surface)\n",
    "        surfA = listify(cdataA.face_surf)\n",
    "        lengthA = listify(cdataA.edge_length)\n",
    "        degreeA = listify(cdataA.point_degree)\n",
    "\n",
    "\n",
    "        facet_data = [volumesA,circumA,tsurfA,surfA,lengthA,degreeA]\n",
    "\n",
    "        row = [typA,theta] + [np.mean(x) for x in facet_data] + [len(volumesA), len(degreeA)]\n",
    "        results = results.append(pd.Series(row,index=results.columns), ignore_index=True)"
   ]
  },
  {
   "cell_type": "code",
   "execution_count": 225,
   "metadata": {
    "collapsed": false
   },
   "outputs": [
    {
     "data": {
      "text/html": [
       "<div>\n",
       "<table border=\"1\" class=\"dataframe\">\n",
       "  <thead>\n",
       "    <tr>\n",
       "      <th></th>\n",
       "      <th></th>\n",
       "      <th colspan=\"2\" halign=\"left\">Cell volume</th>\n",
       "      <th colspan=\"2\" halign=\"left\">Cell circumradius</th>\n",
       "      <th colspan=\"2\" halign=\"left\">Cell surface</th>\n",
       "      <th colspan=\"2\" halign=\"left\">Face surface</th>\n",
       "      <th colspan=\"2\" halign=\"left\">Edge length</th>\n",
       "      <th colspan=\"2\" halign=\"left\">Vertex degree</th>\n",
       "      <th colspan=\"2\" halign=\"left\">Cell count</th>\n",
       "      <th colspan=\"2\" halign=\"left\">Vertex count</th>\n",
       "    </tr>\n",
       "    <tr>\n",
       "      <th></th>\n",
       "      <th></th>\n",
       "      <th>mean</th>\n",
       "      <th>std</th>\n",
       "      <th>mean</th>\n",
       "      <th>std</th>\n",
       "      <th>mean</th>\n",
       "      <th>std</th>\n",
       "      <th>mean</th>\n",
       "      <th>std</th>\n",
       "      <th>mean</th>\n",
       "      <th>std</th>\n",
       "      <th>mean</th>\n",
       "      <th>std</th>\n",
       "      <th>mean</th>\n",
       "      <th>std</th>\n",
       "      <th>mean</th>\n",
       "      <th>std</th>\n",
       "    </tr>\n",
       "    <tr>\n",
       "      <th>model</th>\n",
       "      <th>theta</th>\n",
       "      <th></th>\n",
       "      <th></th>\n",
       "      <th></th>\n",
       "      <th></th>\n",
       "      <th></th>\n",
       "      <th></th>\n",
       "      <th></th>\n",
       "      <th></th>\n",
       "      <th></th>\n",
       "      <th></th>\n",
       "      <th></th>\n",
       "      <th></th>\n",
       "      <th></th>\n",
       "      <th></th>\n",
       "      <th></th>\n",
       "      <th></th>\n",
       "    </tr>\n",
       "  </thead>\n",
       "  <tbody>\n",
       "    <tr>\n",
       "      <th rowspan=\"4\" valign=\"top\">D+</th>\n",
       "      <th>-1.0</th>\n",
       "      <td>0.000233</td>\n",
       "      <td>0.000009</td>\n",
       "      <td>0.101070</td>\n",
       "      <td>0.001247</td>\n",
       "      <td>0.032249</td>\n",
       "      <td>0.000789</td>\n",
       "      <td>0.008097</td>\n",
       "      <td>0.000197</td>\n",
       "      <td>0.145320</td>\n",
       "      <td>0.001722</td>\n",
       "      <td>15.440719</td>\n",
       "      <td>0.093905</td>\n",
       "      <td>2761.27</td>\n",
       "      <td>108.143176</td>\n",
       "      <td>639.62</td>\n",
       "      <td>19.959950</td>\n",
       "    </tr>\n",
       "    <tr>\n",
       "      <th>-0.5</th>\n",
       "      <td>0.000238</td>\n",
       "      <td>0.000011</td>\n",
       "      <td>0.101467</td>\n",
       "      <td>0.001599</td>\n",
       "      <td>0.032648</td>\n",
       "      <td>0.001039</td>\n",
       "      <td>0.008194</td>\n",
       "      <td>0.000261</td>\n",
       "      <td>0.146051</td>\n",
       "      <td>0.002414</td>\n",
       "      <td>15.424654</td>\n",
       "      <td>0.091950</td>\n",
       "      <td>2685.69</td>\n",
       "      <td>119.929415</td>\n",
       "      <td>626.21</td>\n",
       "      <td>22.531368</td>\n",
       "    </tr>\n",
       "    <tr>\n",
       "      <th>0.5</th>\n",
       "      <td>0.000252</td>\n",
       "      <td>0.000011</td>\n",
       "      <td>0.102802</td>\n",
       "      <td>0.001390</td>\n",
       "      <td>0.033706</td>\n",
       "      <td>0.000919</td>\n",
       "      <td>0.008460</td>\n",
       "      <td>0.000229</td>\n",
       "      <td>0.148092</td>\n",
       "      <td>0.001986</td>\n",
       "      <td>15.417522</td>\n",
       "      <td>0.091065</td>\n",
       "      <td>2509.03</td>\n",
       "      <td>103.308253</td>\n",
       "      <td>595.24</td>\n",
       "      <td>18.976924</td>\n",
       "    </tr>\n",
       "    <tr>\n",
       "      <th>1.0</th>\n",
       "      <td>0.000261</td>\n",
       "      <td>0.000010</td>\n",
       "      <td>0.103649</td>\n",
       "      <td>0.001269</td>\n",
       "      <td>0.034444</td>\n",
       "      <td>0.000870</td>\n",
       "      <td>0.008643</td>\n",
       "      <td>0.000218</td>\n",
       "      <td>0.149539</td>\n",
       "      <td>0.001835</td>\n",
       "      <td>15.414493</td>\n",
       "      <td>0.083362</td>\n",
       "      <td>2416.40</td>\n",
       "      <td>100.888377</td>\n",
       "      <td>577.32</td>\n",
       "      <td>19.278333</td>\n",
       "    </tr>\n",
       "    <tr>\n",
       "      <th rowspan=\"4\" valign=\"top\">L+</th>\n",
       "      <th>-1.0</th>\n",
       "      <td>0.000296</td>\n",
       "      <td>0.000012</td>\n",
       "      <td>0.108983</td>\n",
       "      <td>0.001330</td>\n",
       "      <td>0.037321</td>\n",
       "      <td>0.001021</td>\n",
       "      <td>0.009360</td>\n",
       "      <td>0.000255</td>\n",
       "      <td>0.156474</td>\n",
       "      <td>0.002014</td>\n",
       "      <td>15.537621</td>\n",
       "      <td>0.087798</td>\n",
       "      <td>2082.93</td>\n",
       "      <td>81.362173</td>\n",
       "      <td>496.70</td>\n",
       "      <td>16.514762</td>\n",
       "    </tr>\n",
       "    <tr>\n",
       "      <th>-0.5</th>\n",
       "      <td>0.000303</td>\n",
       "      <td>0.000011</td>\n",
       "      <td>0.109552</td>\n",
       "      <td>0.001176</td>\n",
       "      <td>0.037829</td>\n",
       "      <td>0.000910</td>\n",
       "      <td>0.009488</td>\n",
       "      <td>0.000228</td>\n",
       "      <td>0.157405</td>\n",
       "      <td>0.001935</td>\n",
       "      <td>15.538376</td>\n",
       "      <td>0.102025</td>\n",
       "      <td>2022.42</td>\n",
       "      <td>92.715180</td>\n",
       "      <td>484.42</td>\n",
       "      <td>17.982135</td>\n",
       "    </tr>\n",
       "    <tr>\n",
       "      <th>0.5</th>\n",
       "      <td>0.000317</td>\n",
       "      <td>0.000015</td>\n",
       "      <td>0.110505</td>\n",
       "      <td>0.001459</td>\n",
       "      <td>0.038833</td>\n",
       "      <td>0.001222</td>\n",
       "      <td>0.009742</td>\n",
       "      <td>0.000305</td>\n",
       "      <td>0.159326</td>\n",
       "      <td>0.002366</td>\n",
       "      <td>15.574430</td>\n",
       "      <td>0.105489</td>\n",
       "      <td>1909.35</td>\n",
       "      <td>84.825594</td>\n",
       "      <td>460.83</td>\n",
       "      <td>16.132065</td>\n",
       "    </tr>\n",
       "    <tr>\n",
       "      <th>1.0</th>\n",
       "      <td>0.000326</td>\n",
       "      <td>0.000014</td>\n",
       "      <td>0.111030</td>\n",
       "      <td>0.001323</td>\n",
       "      <td>0.039429</td>\n",
       "      <td>0.001051</td>\n",
       "      <td>0.009886</td>\n",
       "      <td>0.000263</td>\n",
       "      <td>0.160274</td>\n",
       "      <td>0.001969</td>\n",
       "      <td>15.571132</td>\n",
       "      <td>0.105244</td>\n",
       "      <td>1855.28</td>\n",
       "      <td>86.704081</td>\n",
       "      <td>451.88</td>\n",
       "      <td>16.312776</td>\n",
       "    </tr>\n",
       "  </tbody>\n",
       "</table>\n",
       "</div>"
      ],
      "text/plain": [
       "            Cell volume           Cell circumradius           Cell surface  \\\n",
       "                   mean       std              mean       std         mean   \n",
       "model theta                                                                  \n",
       "D+    -1.0     0.000233  0.000009          0.101070  0.001247     0.032249   \n",
       "      -0.5     0.000238  0.000011          0.101467  0.001599     0.032648   \n",
       "       0.5     0.000252  0.000011          0.102802  0.001390     0.033706   \n",
       "       1.0     0.000261  0.000010          0.103649  0.001269     0.034444   \n",
       "L+    -1.0     0.000296  0.000012          0.108983  0.001330     0.037321   \n",
       "      -0.5     0.000303  0.000011          0.109552  0.001176     0.037829   \n",
       "       0.5     0.000317  0.000015          0.110505  0.001459     0.038833   \n",
       "       1.0     0.000326  0.000014          0.111030  0.001323     0.039429   \n",
       "\n",
       "                      Face surface           Edge length            \\\n",
       "                  std         mean       std        mean       std   \n",
       "model theta                                                          \n",
       "D+    -1.0   0.000789     0.008097  0.000197    0.145320  0.001722   \n",
       "      -0.5   0.001039     0.008194  0.000261    0.146051  0.002414   \n",
       "       0.5   0.000919     0.008460  0.000229    0.148092  0.001986   \n",
       "       1.0   0.000870     0.008643  0.000218    0.149539  0.001835   \n",
       "L+    -1.0   0.001021     0.009360  0.000255    0.156474  0.002014   \n",
       "      -0.5   0.000910     0.009488  0.000228    0.157405  0.001935   \n",
       "       0.5   0.001222     0.009742  0.000305    0.159326  0.002366   \n",
       "       1.0   0.001051     0.009886  0.000263    0.160274  0.001969   \n",
       "\n",
       "            Vertex degree           Cell count             Vertex count  \\\n",
       "                     mean       std       mean         std         mean   \n",
       "model theta                                                               \n",
       "D+    -1.0      15.440719  0.093905    2761.27  108.143176       639.62   \n",
       "      -0.5      15.424654  0.091950    2685.69  119.929415       626.21   \n",
       "       0.5      15.417522  0.091065    2509.03  103.308253       595.24   \n",
       "       1.0      15.414493  0.083362    2416.40  100.888377       577.32   \n",
       "L+    -1.0      15.537621  0.087798    2082.93   81.362173       496.70   \n",
       "      -0.5      15.538376  0.102025    2022.42   92.715180       484.42   \n",
       "       0.5      15.574430  0.105489    1909.35   84.825594       460.83   \n",
       "       1.0      15.571132  0.105244    1855.28   86.704081       451.88   \n",
       "\n",
       "                        \n",
       "                   std  \n",
       "model theta             \n",
       "D+    -1.0   19.959950  \n",
       "      -0.5   22.531368  \n",
       "       0.5   18.976924  \n",
       "       1.0   19.278333  \n",
       "L+    -1.0   16.514762  \n",
       "      -0.5   17.982135  \n",
       "       0.5   16.132065  \n",
       "       1.0   16.312776  "
      ]
     },
     "execution_count": 225,
     "metadata": {},
     "output_type": "execute_result"
    }
   ],
   "source": [
    "results_grouped = results.groupby(['model','theta']).agg(['mean','std'])\n",
    "results_grouped"
   ]
  },
  {
   "cell_type": "code",
   "execution_count": 291,
   "metadata": {
    "collapsed": false
   },
   "outputs": [
    {
     "data": {
      "text/plain": [
       "0.00025152265587998819"
      ]
     },
     "execution_count": 291,
     "metadata": {},
     "output_type": "execute_result"
    }
   ],
   "source": [
    "results_grouped.loc[('D+',0.5),('Cell volume','mean')]"
   ]
  },
  {
   "cell_type": "code",
   "execution_count": 304,
   "metadata": {
    "collapsed": false,
    "scrolled": false
   },
   "outputs": [
    {
     "name": "stdout",
     "output_type": "stream",
     "text": [
      "\\begin{table*}\\centering\n",
      "\\ra{1.3}\n",
      "\\begin{tabular}{lrllllllll}\\toprule\n",
      "&& \\multicolumn{4}{c}{Cell} & \\multicolumn{1}{c}{Face} & \\multicolumn{1}{c}{Edge} & \\multicolumn{2}{c}{Vertex} \\\\ \n",
      "\\cmidrule(lr){3-6} \\cmidrule(lr){7-7} \\cmidrule(lr){8-8} \\cmidrule(lr){9-10}\n",
      "& Theta &  Count & Volume & Circumradius & Surface & Surface & Length & Count & Degree \\\\\n",
      "\\midrule\n",
      "\\texttt{D+} \\\\\n",
      " & -1.0 &  2761.3 &  0.00023 &  0.1011 &  0.0322 &  0.0081 &  0.1453 &  639.6 &  15.4 \\\\\n",
      " & &  (108.1) &  (0.00001) &  (0.0012) &  (0.0008) &  (0.0002) &  (0.0017) &  (20.0) &  (0.1) \\\\\n",
      " & -0.5 &  2685.7 &  0.00024 &  0.1015 &  0.0326 &  0.0082 &  0.1461 &  626.2 &  15.4 \\\\\n",
      " & &  (119.9) &  (0.00001) &  (0.0016) &  (0.0010) &  (0.0003) &  (0.0024) &  (22.5) &  (0.1) \\\\\n",
      " & 0.5 &  2509.0 &  0.00025 &  0.1028 &  0.0337 &  0.0085 &  0.1481 &  595.2 &  15.4 \\\\\n",
      " & &  (103.3) &  (0.00001) &  (0.0014) &  (0.0009) &  (0.0002) &  (0.0020) &  (19.0) &  (0.1) \\\\\n",
      " & 1.0 &  2416.4 &  0.00026 &  0.1036 &  0.0344 &  0.0086 &  0.1495 &  577.3 &  15.4 \\\\\n",
      " & &  (100.9) &  (0.00001) &  (0.0013) &  (0.0009) &  (0.0002) &  (0.0018) &  (19.3) &  (0.1) \\\\\n",
      "\\texttt{L+} \\\\\n",
      " & -1.0 &  2082.9 &  0.00030 &  0.1090 &  0.0373 &  0.0094 &  0.1565 &  496.7 &  15.5 \\\\\n",
      " & &  (81.4) &  (0.00001) &  (0.0013) &  (0.0010) &  (0.0003) &  (0.0020) &  (16.5) &  (0.1) \\\\\n",
      " & -0.5 &  2022.4 &  0.00030 &  0.1096 &  0.0378 &  0.0095 &  0.1574 &  484.4 &  15.5 \\\\\n",
      " & &  (92.7) &  (0.00001) &  (0.0012) &  (0.0009) &  (0.0002) &  (0.0019) &  (18.0) &  (0.1) \\\\\n",
      " & 0.5 &  1909.3 &  0.00032 &  0.1105 &  0.0388 &  0.0097 &  0.1593 &  460.8 &  15.6 \\\\\n",
      " & &  (84.8) &  (0.00002) &  (0.0015) &  (0.0012) &  (0.0003) &  (0.0024) &  (16.1) &  (0.1) \\\\\n",
      " & 1.0 &  1855.3 &  0.00033 &  0.1110 &  0.0394 &  0.0099 &  0.1603 &  451.9 &  15.6 \\\\\n",
      " & &  (86.7) &  (0.00001) &  (0.0013) &  (0.0011) &  (0.0003) &  (0.0020) &  (16.3) &  (0.1) \\\\\n",
      "\\bottomrule\n",
      "\\end{tabular}\n",
      "\\caption{Facet statistics}\n",
      "\\end{table*}\n"
     ]
    }
   ],
   "source": [
    "print(r\"\"\"\\begin{table*}\\centering\n",
    "\\ra{1.3}\n",
    "\\begin{tabular}{lrllllllll}\\toprule\n",
    "&& \\multicolumn{4}{c}{Cell} & \\multicolumn{1}{c}{Face} & \\multicolumn{1}{c}{Edge} & \\multicolumn{2}{c}{Vertex} \\\\ \n",
    "\\cmidrule(lr){3-6} \\cmidrule(lr){7-7} \\cmidrule(lr){8-8} \\cmidrule(lr){9-10}\n",
    "& Theta &  Count & Volume & Circumradius & Surface & Surface & Length & Count & Degree \\\\\n",
    "\\midrule\"\"\")\n",
    "\n",
    "\n",
    "for typ,df_ty in results_grouped.groupby(level=0):\n",
    "    print(r'\\texttt{' + typ + r'} \\\\')\n",
    "    for theta,df_th in df_ty.groupby(level=1):\n",
    "        print(' & ' + str(theta) \n",
    "              + ' &  {0:.1f}'.format(results_grouped.loc[(typ,theta),('Cell count', 'mean')])\n",
    "              + ' &  {0:.5f}'.format(results_grouped.loc[(typ,theta),('Cell volume', 'mean')])\n",
    "              + ' &  {0:.4f}'.format(results_grouped.loc[(typ,theta),('Cell circumradius', 'mean')])\n",
    "              + ' &  {0:.4f}'.format(results_grouped.loc[(typ,theta),('Cell surface', 'mean')])\n",
    "              + ' &  {0:.4f}'.format(results_grouped.loc[(typ,theta),('Face surface', 'mean')])\n",
    "              + ' &  {0:.4f}'.format(results_grouped.loc[(typ,theta),('Edge length', 'mean')])\n",
    "              + ' &  {0:.1f}'.format(results_grouped.loc[(typ,theta),('Vertex count', 'mean')])\n",
    "              + ' &  {0:.1f}'.format(results_grouped.loc[(typ,theta),('Vertex degree', 'mean')]) \n",
    "              + r' \\\\')\n",
    "        print(' & ' \n",
    "              + '&  ({0:.1f}'.format(results_grouped.loc[(typ,theta),('Cell count', 'std')]) \n",
    "              + ') &  ({0:.5f}'.format(results_grouped.loc[(typ,theta),('Cell volume', 'std')])\n",
    "              + ') &  ({0:.4f}'.format(results_grouped.loc[(typ,theta),('Cell circumradius', 'std')])\n",
    "              + ') &  ({0:.4f}'.format(results_grouped.loc[(typ,theta),('Cell surface', 'std')])\n",
    "              + ') &  ({0:.4f}'.format(results_grouped.loc[(typ,theta),('Face surface', 'std')])\n",
    "              + ') &  ({0:.4f}'.format(results_grouped.loc[(typ,theta),('Edge length', 'std')])\n",
    "              + ') &  ({0:.1f}'.format(results_grouped.loc[(typ,theta),('Vertex count', 'std')])\n",
    "              + ') &  ({0:.1f}'.format(results_grouped.loc[(typ,theta),('Vertex degree', 'std')]) \n",
    "              + r') \\\\')\n",
    "        \n",
    "        \n",
    "        \n",
    "        \n",
    "print(r\"\"\"\\bottomrule\n",
    "\\end{tabular}\n",
    "\\caption{Facet statistics}\n",
    "\\end{table*}\"\"\")"
   ]
  },
  {
   "cell_type": "code",
   "execution_count": 381,
   "metadata": {
    "collapsed": false
   },
   "outputs": [],
   "source": [
    "theta = 1\n",
    "results = pd.DataFrame(columns=['model', 'stat', 'Cell volume','Cell circumradius','Cell surface', 'Face surface', 'Edge length', 'Vertex degree'])\n",
    "\n",
    "for typA in cdata.type.unique():\n",
    "    cdataA = cdataf.loc[(cdataf['type'] == typA) & (cdataf['theta']==theta),].iloc[0]\n",
    "\n",
    "    volumesA = listify(cdataA.tetra_volume)\n",
    "    circumA = listify(cdataA.tetra_circum)\n",
    "    tsurfA = listify(cdataA.tetra_surface)\n",
    "    surfA = listify(cdataA.face_surf)\n",
    "    lengthA = listify(cdataA.edge_length)\n",
    "    degreeA = listify(cdataA.point_degree)\n",
    "\n",
    "\n",
    "    facet_data = [volumesA,circumA,tsurfA,surfA,lengthA,degreeA]\n",
    "\n",
    "    row = [typA,'mean'] + [np.mean(x) for x in facet_data]\n",
    "    results = results.append(pd.Series(row,index=results.columns), ignore_index=True)\n",
    "\n",
    "    row = [typA,'std'] + [np.std(x) for x in facet_data]\n",
    "    results = results.append(pd.Series(row,index=results.columns), ignore_index = True)"
   ]
  },
  {
   "cell_type": "markdown",
   "metadata": {},
   "source": [
    "##### Old"
   ]
  },
  {
   "cell_type": "code",
   "execution_count": 130,
   "metadata": {
    "collapsed": false
   },
   "outputs": [
    {
     "name": "stdout",
     "output_type": "stream",
     "text": [
      "Type & \\theta = 0.5 & \\theta = 1 \\\\\n",
      "Cell volume & 0.00024 (0.00021) & 0.00027 (0.00024) \\\\\n",
      "Cell circumradius & 0.1016 (0.0217) & 0.1037 (0.0232) \\\\\n",
      "Cell surface & 0.0328 (0.0163) & 0.0347 (0.0183) \\\\\n",
      "Face surface & 0.0082 (0.0048) & 0.0087 (0.0053) \\\\\n",
      "Edge length & 0.15 (0.05) & 0.15 (0.06) \\\\\n",
      "Vertex degree & 15.37 (3.46) & 15.51 (3.56) \\\\\n"
     ]
    }
   ],
   "source": [
    "print(r'Type & \\theta = ' + str(thetaA) + r' & \\theta = ' + str(thetaB) + r' \\\\')\n",
    "print('Cell volume & ' + '{0:.5f}'.format(np.mean(volumesA)) + ' (' + '{0:.5f}'.format(np.std(volumesA)) + ')' + ' & ' +  '{0:.5f}'.format(np.mean(volumesB)) + ' (' + '{0:.5f}'.format(np.std(volumesB)) + ') \\\\\\\\')\n",
    "print('Cell circumradius & ' + '{0:.4f}'.format(np.mean(circumA)) + ' (' + '{0:.4f}'.format(np.std(circumA)) + ')' +' & ' + '{0:.4f}'.format(np.mean(circumB)) + ' (' + '{0:.4f}'.format(np.std(circumB)) + ') \\\\\\\\')\n",
    "print('Cell surface & ' + '{0:.4f}'.format(np.mean(tsurfA)) + ' (' + '{0:.4f}'.format(np.std(tsurfA)) + ')' +' & ' + '{0:.4f}'.format(np.mean(tsurfB)) + ' (' + '{0:.4f}'.format(np.std(tsurfB)) + ') \\\\\\\\')\n",
    "print('Face surface & ' + '{0:.4f}'.format(np.mean(surfA)) + ' (' + '{0:.4f}'.format(np.std(surfA)) + ')' +' & ' + '{0:.4f}'.format(np.mean(surfB)) + ' (' + '{0:.4f}'.format(np.std(surfB)) + ') \\\\\\\\')\n",
    "print('Edge length & ' + '{0:.2f}'.format(np.mean(lengthA)) + ' (' + '{0:.2f}'.format(np.std(lengthA)) + ')' + ' & ' + '{0:.2f}'.format(np.mean(lengthB)) + ' (' + '{0:.2f}'.format(np.std(lengthB)) + ') \\\\\\\\')\n",
    "print('Vertex degree & ' +  '{0:.2f}'.format(np.mean(degreeA)) + ' (' + '{0:.2f}'.format(np.std(degreeA)) + ')' + ' & ' + '{0:.2f}'.format(np.mean(degreeB)) + ' (' + '{0:.2f}'.format(np.std(degreeB)) + ') \\\\\\\\')\n"
   ]
  },
  {
   "cell_type": "markdown",
   "metadata": {},
   "source": [
    "### Single facet statistic"
   ]
  },
  {
   "cell_type": "code",
   "execution_count": 108,
   "metadata": {
    "collapsed": false
   },
   "outputs": [],
   "source": [
    "bins = np.linspace(0,0.002,40)\n",
    "plt.hist([volumesA,volumesB],  label=[labelA,labelB])\n",
    "plt.legend(loc='upper right',prop={'size': 6})\n",
    "plt.xlabel(\"Volume\")\n",
    "#plt.ylabel(\"Density\")\n",
    "plt.title('Cell volume')\n",
    "plt.locator_params(nbins=4)"
   ]
  },
  {
   "cell_type": "code",
   "execution_count": 109,
   "metadata": {
    "collapsed": false
   },
   "outputs": [],
   "source": [
    "bins_tsurf = np.linspace(0,0.2,40)\n",
    "plt.hist([tsurfA,tsurfB],bins_tsurf, label=[labelA,labelB])\n",
    "plt.legend(loc='upper right',prop={'size': 6})\n",
    "plt.xlabel(\"Surface\")\n",
    "#plt.ylabel(\"Density\")\n",
    "plt.title('Cell Surface')\n",
    "plt.locator_params(nbins=4)"
   ]
  },
  {
   "cell_type": "code",
   "execution_count": 110,
   "metadata": {
    "collapsed": false
   },
   "outputs": [],
   "source": [
    "bins_circum = np.linspace(0.03,0.2,40)\n",
    "plt.hist([circumA,circumB],bins_circum, label=[labelA,labelB])\n",
    "plt.legend(loc='upper right',prop={'size': 6})\n",
    "plt.xlabel(\"Circumradius\")\n",
    "#plt.ylabel(\"Density\")\n",
    "plt.title('Cell circumradius')\n",
    "plt.locator_params(nbins=4)"
   ]
  },
  {
   "cell_type": "code",
   "execution_count": 111,
   "metadata": {
    "collapsed": false
   },
   "outputs": [],
   "source": [
    "bins_surf = np.linspace(0.0004,0.04,40)\n",
    "plt.hist([surfA,surfB],bins_surf, label=[labelA,labelB])\n",
    "plt.legend(loc='upper right',prop={'size': 6})\n",
    "plt.xlabel(\"Surface\")\n",
    "#plt.ylabel(\"Density\")\n",
    "plt.title('Face surface')\n",
    "plt.locator_params(nbins=4)"
   ]
  },
  {
   "cell_type": "code",
   "execution_count": 112,
   "metadata": {
    "collapsed": false
   },
   "outputs": [],
   "source": [
    "bins_length = np.linspace(0.01,0.4,40)\n",
    "plt.hist([lengthA,lengthB],bins_length, label=[labelA, labelB])\n",
    "plt.legend(loc='upper right',prop={'size': 6})\n",
    "plt.xlabel(\"Length\")\n",
    "#plt.ylabel(\"Density\")\n",
    "plt.title('Edge length')\n",
    "plt.locator_params(nbins=6)"
   ]
  },
  {
   "cell_type": "code",
   "execution_count": 107,
   "metadata": {
    "collapsed": false
   },
   "outputs": [],
   "source": [
    "bins_deg = np.linspace(0,35,30)\n",
    "plt.hist([degreeA,degreeB],bins_deg, label=[labelA, labelB])\n",
    "plt.legend(loc='upper right',prop={'size': 6})\n",
    "plt.xlabel(\"Degree\")\n",
    "#plt.ylabel(\"Density\")\n",
    "plt.title('Vertex degree')\n",
    "plt.locator_params(nbins=6)"
   ]
  },
  {
   "cell_type": "markdown",
   "metadata": {},
   "source": [
    "### Multiple theta estimate plots"
   ]
  },
  {
   "cell_type": "code",
   "execution_count": 110,
   "metadata": {
    "collapsed": false
   },
   "outputs": [
    {
     "data": {
      "image/png": "[encoded data removed]",
      "text/plain": [
       "<matplotlib.figure.Figure at 0x1fa762095f8>"
      ]
     },
     "metadata": {},
     "output_type": "display_data"
    }
   ],
   "source": [
    "groupnum = len(cdataf.groupby(['theta']))\n",
    "thetas = cdataf.groupby(['theta'])['theta_est','theta_known_z_est'].agg(['mean','std']).index\n",
    "\n",
    "for i, theta in enumerate(thetas):\n",
    "    plt.subplot(groupnum,2,2*i+1)\n",
    "    plt.ylabel(r'$\\theta = $ ' + str(theta))\n",
    "    plt.hist(cdataf.loc[cdataf['theta'] == thetas[i], 'theta_est'])\n",
    "    plt.axvline(x=thetas[i], c='r')\n",
    "    if (i==0):\n",
    "        plt.title('theta_est')\n",
    "\n",
    "    plt.subplot(groupnum,2,2*i+2)\n",
    "    plt.hist(cdataf.loc[cdataf['theta'] == thetas[i], 'theta_known_z_est'])\n",
    "    plt.axvline(x=thetas[i], c='r')\n",
    "    if (i==0):\n",
    "        plt.title('theta_know_z_est')\n",
    "    \n",
    "# plt.tight_layout(pad = 2, w_pad = 2, h_pad = 5)\n",
    "plt.subplots_adjust(top=4)\n",
    "\n",
    "plt.show()\n",
    "\n",
    "# plt.savefig('estimates_mult.pdf')"
   ]
  },
  {
   "cell_type": "markdown",
   "metadata": {},
   "source": [
    "---"
   ]
  },
  {
   "cell_type": "markdown",
   "metadata": {},
   "source": [
    "# Diagnostic plots"
   ]
  },
  {
   "cell_type": "code",
   "execution_count": 50,
   "metadata": {
    "collapsed": false
   },
   "outputs": [],
   "source": [
    "log = pd.read_csv('files/log_3_6_20190101_14_16_26_37566.csv', sep=',')"
   ]
  },
  {
   "cell_type": "markdown",
   "metadata": {},
   "source": [
    "### Accept + move type statistics"
   ]
  },
  {
   "cell_type": "code",
   "execution_count": 51,
   "metadata": {
    "collapsed": false
   },
   "outputs": [
    {
     "data": {
      "text/plain": [
       "0.0    1730786\n",
       "1.0    1211278\n",
       "Name: accept, dtype: int64"
      ]
     },
     "execution_count": 51,
     "metadata": {},
     "output_type": "execute_result"
    }
   ],
   "source": [
    "log['accept'].value_counts()"
   ]
  },
  {
   "cell_type": "code",
   "execution_count": 52,
   "metadata": {
    "collapsed": false
   },
   "outputs": [
    {
     "data": {
      "text/plain": [
       "M    1000520\n",
       "B    1000196\n",
       "D     999284\n",
       "Name: type, dtype: int64"
      ]
     },
     "execution_count": 52,
     "metadata": {},
     "output_type": "execute_result"
    }
   ],
   "source": [
    "log['type'].value_counts()"
   ]
  },
  {
   "cell_type": "code",
   "execution_count": 58,
   "metadata": {
    "collapsed": false
   },
   "outputs": [
    {
     "data": {
      "text/plain": [
       "accept  type\n",
       "0.0     M       659622\n",
       "        D       552666\n",
       "        B       518498\n",
       "1.0     D       446618\n",
       "        B       446369\n",
       "        M       318291\n",
       "Name: type, dtype: int64"
      ]
     },
     "execution_count": 58,
     "metadata": {},
     "output_type": "execute_result"
    }
   ],
   "source": [
    "log.groupby('accept')['type'].value_counts()"
   ]
  },
  {
   "cell_type": "markdown",
   "metadata": {},
   "source": [
    "### Convergence"
   ]
  },
  {
   "cell_type": "code",
   "execution_count": 152,
   "metadata": {
    "collapsed": true
   },
   "outputs": [],
   "source": [
    "log['time'] = log['time'].replace(math.nan,'',regex=True)\n",
    "log['time'] = pd.to_numeric(log['time'])"
   ]
  },
  {
   "cell_type": "code",
   "execution_count": 153,
   "metadata": {
    "collapsed": true
   },
   "outputs": [],
   "source": [
    "block_length = 10000\n",
    "groupby_blocks = np.repeat(range(int(len(log)/block_length)),block_length)\n",
    "groupby_blocks = np.array([0] + list(groupby_blocks+1))[0:-1]"
   ]
  },
  {
   "cell_type": "code",
   "execution_count": 154,
   "metadata": {
    "collapsed": true
   },
   "outputs": [],
   "source": [
    "groupedlog = log.groupby([groupby_blocks, 'type'])['accept'].sum().reset_index()"
   ]
  },
  {
   "cell_type": "code",
   "execution_count": 155,
   "metadata": {
    "collapsed": true
   },
   "outputs": [],
   "source": [
    "groupedmeanlog = log.groupby([groupby_blocks])['energy','no_act_vrt','time'].mean().reset_index()"
   ]
  },
  {
   "cell_type": "code",
   "execution_count": 163,
   "metadata": {
    "collapsed": false
   },
   "outputs": [],
   "source": [
    "plt.rcParams.update({'font.size': 11})\n",
    "\n",
    "plt.figure(figsize=(20,10))\n",
    "\n",
    "\n",
    "plt.subplot(5,1,1)\n",
    "plt.gca().spines['right'].set_visible(False)\n",
    "plt.gca().spines['top'].set_visible(False)\n",
    "plt.title('Energy')\n",
    "plt.tick_params(axis='x', which='both', bottom=False, top=False, labelbottom=False) \n",
    "# plt.ylim(240,250)\n",
    "plt.locator_params(axis = 'y', nbins=3)\n",
    "groupedmeanlog['energy'].plot()\n",
    "\n",
    "\n",
    "plt.subplot(5,1,2)\n",
    "plt.gca().spines['right'].set_visible(False)\n",
    "plt.gca().spines['top'].set_visible(False)\n",
    "plt.title('Number of vertices')\n",
    "plt.tick_params(axis='x', which='both', bottom=False, top=False, labelbottom=False) \n",
    "plt.ylim(400,550)\n",
    "plt.locator_params(axis = 'y', nbins=2)\n",
    "groupedmeanlog['no_act_vrt'].plot()\n",
    "\n",
    "# plt.subplot(5,1,3)\n",
    "# plt.title('Time taken')\n",
    "# plt.ylim(0.0028,0.0032)\n",
    "# groupedmeanlog['time'].plot()\n",
    "\n",
    "plt.subplot(5,1,3)\n",
    "plt.gca().spines['right'].set_visible(False)\n",
    "plt.gca().spines['top'].set_visible(False)\n",
    "plt.title('Accepted births')\n",
    "plt.tick_params(axis='x', which='both', bottom=False, top=False, labelbottom=False) \n",
    "plt.locator_params(axis = 'y', nbins=3)\n",
    "groupedlog[groupedlog['type'] == 'B']['accept'].plot()\n",
    "\n",
    "plt.subplot(5,1,4)\n",
    "plt.gca().spines['right'].set_visible(False)\n",
    "plt.gca().spines['top'].set_visible(False)\n",
    "plt.title('Accepted deaths')\n",
    "plt.tick_params(axis='x', which='both', bottom=False, top=False, labelbottom=False) \n",
    "plt.locator_params(axis = 'y', nbins=3)\n",
    "plt.ylim(1300,1600)\n",
    "groupedlog[groupedlog['type'] == 'D']['accept'].plot()\n",
    "\n",
    "plt.subplot(5,1,5)\n",
    "plt.gca().spines['right'].set_visible(False)\n",
    "plt.gca().spines['top'].set_visible(False)\n",
    "plt.title('Accepted moves')\n",
    "\n",
    "plt.locator_params(axis = 'y', nbins=3)\n",
    "plt.ylim(850,1200)\n",
    "plt.xlabel(\"Iterations (*10,000)\")\n",
    "groupedlog[groupedlog['type'] == 'M']['accept'].reset_index(drop=True).plot()\n",
    "\n",
    "\n",
    "plt.subplots_adjust(hspace=0.8)\n",
    "# plt.tight_layout()\n",
    "# plt.show()\n",
    "\n",
    "plt.savefig('convergence.pdf')\n",
    "plt.close()"
   ]
  },
  {
   "cell_type": "markdown",
   "metadata": {},
   "source": [
    "### Checking if the energy does not move by itself"
   ]
  },
  {
   "cell_type": "code",
   "execution_count": 89,
   "metadata": {
    "collapsed": true
   },
   "outputs": [],
   "source": [
    "lognona = log[~log.isnull().any(axis=1)]\n",
    "logshift = lognona.assign(shiftenergy = lognona['energy'].shift(-1))"
   ]
  },
  {
   "cell_type": "code",
   "execution_count": 90,
   "metadata": {
    "collapsed": false
   },
   "outputs": [
    {
     "data": {
      "text/html": [
       "<div>\n",
       "<style scoped>\n",
       "    .dataframe tbody tr th:only-of-type {\n",
       "        vertical-align: middle;\n",
       "    }\n",
       "\n",
       "    .dataframe tbody tr th {\n",
       "        vertical-align: top;\n",
       "    }\n",
       "\n",
       "    .dataframe thead th {\n",
       "        text-align: right;\n",
       "    }\n",
       "</style>\n",
       "<table border=\"1\" class=\"dataframe\">\n",
       "  <thead>\n",
       "    <tr style=\"text-align: right;\">\n",
       "      <th></th>\n",
       "      <th>step_no</th>\n",
       "      <th>type</th>\n",
       "      <th>pt</th>\n",
       "      <th>pt_mv</th>\n",
       "      <th>energy</th>\n",
       "      <th>energy_after</th>\n",
       "      <th>b</th>\n",
       "      <th>ratio</th>\n",
       "      <th>accept</th>\n",
       "      <th>no_vrt</th>\n",
       "      <th>no_act_vrt</th>\n",
       "      <th>time</th>\n",
       "      <th>shiftenergy</th>\n",
       "    </tr>\n",
       "  </thead>\n",
       "  <tbody>\n",
       "    <tr>\n",
       "      <th>1999999</th>\n",
       "      <td>2000000</td>\n",
       "      <td>B</td>\n",
       "      <td>0.260079 0.576914 0.170576 0.0041291</td>\n",
       "      <td></td>\n",
       "      <td>145.211</td>\n",
       "      <td>-1.0</td>\n",
       "      <td>0.762074</td>\n",
       "      <td>0.511364</td>\n",
       "      <td>0.0</td>\n",
       "      <td>6142.0</td>\n",
       "      <td>871.0</td>\n",
       "      <td>0.002197</td>\n",
       "      <td>NaN</td>\n",
       "    </tr>\n",
       "  </tbody>\n",
       "</table>\n",
       "</div>"
      ],
      "text/plain": [
       "         step_no type                                    pt pt_mv   energy  \\\n",
       "1999999  2000000    B  0.260079 0.576914 0.170576 0.0041291        145.211   \n",
       "\n",
       "         energy_after         b     ratio  accept  no_vrt  no_act_vrt  \\\n",
       "1999999          -1.0  0.762074  0.511364     0.0  6142.0       871.0   \n",
       "\n",
       "             time  shiftenergy  \n",
       "1999999  0.002197          NaN  "
      ]
     },
     "execution_count": 90,
     "metadata": {},
     "output_type": "execute_result"
    }
   ],
   "source": [
    "logshift[(logshift['shiftenergy'] - logshift['energy'] != 0) & (logshift['accept'] != 1)]"
   ]
  },
  {
   "cell_type": "markdown",
   "metadata": {},
   "source": [
    "## Parsing Cell data from SLURM logs"
   ]
  },
  {
   "cell_type": "code",
   "execution_count": 483,
   "metadata": {
    "collapsed": true
   },
   "outputs": [],
   "source": [
    "def extract_data(filename):\n",
    "    lines = []\n",
    "    with open(filename,  'r') as slurm:\n",
    "        for line in slurm:\n",
    "            lines += [line]\n",
    "            \n",
    "    numbers_unflat = [re.findall(\"\\d+\\.\\d+|\\d+\", line) for line in lines]\n",
    "    data = []\n",
    "    if len(numbers_unflat) == 12:\n",
    "        numbers = [float(number) for sublist in numbers_unflat for number in sublist]\n",
    "        data = [filename] + [numbers[i] for i in [3,4,5,6,7,8,11,12,13,14,15,16,18,19,20]]\n",
    "\n",
    "    return(data)"
   ]
  },
  {
   "cell_type": "code",
   "execution_count": 484,
   "metadata": {
    "collapsed": true
   },
   "outputs": [],
   "source": [
    "columns = ['filename','theta','epsilon','alpha','z','max_weight', 'iterations','pts','pts_active','pts_removable','min_edge_est','epsilon_est','alpha_est','theta_est','z_est','theta_z_known_est']\n",
    "\n",
    "df = pd.DataFrame(columns=columns)"
   ]
  },
  {
   "cell_type": "code",
   "execution_count": 485,
   "metadata": {
    "collapsed": false
   },
   "outputs": [
    {
     "name": "stdout",
     "output_type": "stream",
     "text": [
      "Success rate: 303 out of 303 . ( 1.0 )\n"
     ]
    }
   ],
   "source": [
    "data = []\n",
    "success = 0\n",
    "total = 0\n",
    "\n",
    "for filename in os.listdir('slurmlogs'):\n",
    "    total += 1\n",
    "    slurm_parsed = extract_data('slurmlogs/' + filename) \n",
    "    if len(slurm_parsed) == 16:\n",
    "        data += [slurm_parsed]\n",
    "        success += 1\n",
    "    \n",
    "print('Success rate:', success, 'out of', total,'. (',success/total, ')')"
   ]
  }
 ],
 "metadata": {
  "kernelspec": {
   "display_name": "Python 3",
   "language": "python",
   "name": "python3"
  },
  "language_info": {
   "codemirror_mode": {
    "name": "ipython",
    "version": 3
   },
   "file_extension": ".py",
   "mimetype": "text/x-python",
   "name": "python",
   "nbconvert_exporter": "python",
   "pygments_lexer": "ipython3",
   "version": "3.6.0"
  }
 },
 "nbformat": 4,
 "nbformat_minor": 2
}
