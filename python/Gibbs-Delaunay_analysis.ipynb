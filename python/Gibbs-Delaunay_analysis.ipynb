{
 "cells": [
  {
   "cell_type": "code",
   "execution_count": 2,
   "metadata": {},
   "outputs": [],
   "source": [
    "import math\n",
    "import numpy as np\n",
    "import pandas as pd\n",
    "import matplotlib.pyplot as plt"
   ]
  },
  {
   "cell_type": "code",
   "execution_count": 3,
   "metadata": {},
   "outputs": [],
   "source": [
    "import re\n",
    "import os"
   ]
  },
  {
   "cell_type": "markdown",
   "metadata": {},
   "source": [
    "### Lessons learned\n",
    "* Make notes on classic EDA stuff\n",
    " * grouping and aggregating\n",
    " * summary statistics\n",
    " * basic plots\n",
    " * correlations\n",
    "* os basics\n",
    "* regexp basics"
   ]
  },
  {
   "cell_type": "markdown",
   "metadata": {},
   "source": [
    "# Cell data processing"
   ]
  },
  {
   "cell_type": "markdown",
   "metadata": {},
   "source": [
    "- []Circumradius different length\n",
    "- [x]Files not saved\n",
    "- []Negative theta - just anomalous results + biasedness?\n",
    "- []Nonsense results in estimation sometimes\n",
    "- []Estimates are not centered at the estimated value\n",
    "- []Edge length multimodality"
   ]
  },
  {
   "cell_type": "code",
   "execution_count": 47,
   "metadata": {},
   "outputs": [],
   "source": [
    "dirname = 'files/'\n",
    "filenames = os.listdir(dirname)\n",
    "\n",
    "cdata = pd.DataFrame(columns=pd.read_csv(dirname + filenames[0], sep = ';').columns)\n",
    "\n",
    "for filename in filenames:\n",
    "    newdata = pd.read_csv(dirname + filename, sep=';')\n",
    "    # print(newdata)\n",
    "    cdata = cdata.append(newdata)\n",
    "    \n",
    "cdata = cdata.reset_index()"
   ]
  },
  {
   "cell_type": "code",
   "execution_count": 48,
   "metadata": {},
   "outputs": [
    {
     "data": {
      "text/plain": [
       "1    50\n",
       "Name: theta, dtype: int64"
      ]
     },
     "execution_count": 48,
     "metadata": {},
     "output_type": "execute_result"
    }
   ],
   "source": [
    "cdata['theta'].value_counts()"
   ]
  },
  {
   "cell_type": "code",
   "execution_count": 69,
   "metadata": {},
   "outputs": [
    {
     "data": {
      "text/plain": [
       "1    50\n",
       "Name: K, dtype: int64"
      ]
     },
     "execution_count": 69,
     "metadata": {},
     "output_type": "execute_result"
    }
   ],
   "source": [
    "cdata['K'].value_counts()"
   ]
  },
  {
   "cell_type": "code",
   "execution_count": 49,
   "metadata": {},
   "outputs": [],
   "source": [
    "def listify(string):\n",
    "        strlist = string[1:-2].replace(' ','').split(',')[:-1]\n",
    "        result = [float(num) for num in strlist]\n",
    "        return(result)"
   ]
  },
  {
   "cell_type": "markdown",
   "metadata": {},
   "source": [
    "#### Filter anomalous results"
   ]
  },
  {
   "cell_type": "code",
   "execution_count": 50,
   "metadata": {},
   "outputs": [
    {
     "data": {
      "text/plain": [
       "0.5"
      ]
     },
     "execution_count": 50,
     "metadata": {},
     "output_type": "execute_result"
    }
   ],
   "source": [
    "cdataf = celldata.loc[np.abs(celldata['theta_est']) < 1000]\n",
    "len(cdataf) / len(cdata)"
   ]
  },
  {
   "cell_type": "code",
   "execution_count": 53,
   "metadata": {},
   "outputs": [
    {
     "name": "stderr",
     "output_type": "stream",
     "text": [
      "C:\\Users\\Adéla\\Miniconda3\\lib\\site-packages\\pandas\\core\\indexing.py:543: SettingWithCopyWarning: \n",
      "A value is trying to be set on a copy of a slice from a DataFrame.\n",
      "Try using .loc[row_indexer,col_indexer] = value instead\n",
      "\n",
      "See the caveats in the documentation: http://pandas.pydata.org/pandas-docs/stable/indexing.html#indexing-view-versus-copy\n",
      "  self.obj[item] = s\n"
     ]
    }
   ],
   "source": [
    "cdataf.loc[:,'z_est'] = pd.to_numeric(cdataf.loc[:,'z_est'])"
   ]
  },
  {
   "cell_type": "markdown",
   "metadata": {},
   "source": [
    "### Estimation summary"
   ]
  },
  {
   "cell_type": "code",
   "execution_count": 54,
   "metadata": {},
   "outputs": [
    {
     "data": {
      "text/html": [
       "<div>\n",
       "<style scoped>\n",
       "    .dataframe tbody tr th:only-of-type {\n",
       "        vertical-align: middle;\n",
       "    }\n",
       "\n",
       "    .dataframe tbody tr th {\n",
       "        vertical-align: top;\n",
       "    }\n",
       "\n",
       "    .dataframe thead tr th {\n",
       "        text-align: left;\n",
       "    }\n",
       "\n",
       "    .dataframe thead tr:last-of-type th {\n",
       "        text-align: right;\n",
       "    }\n",
       "</style>\n",
       "<table border=\"1\" class=\"dataframe\">\n",
       "  <thead>\n",
       "    <tr>\n",
       "      <th></th>\n",
       "      <th colspan=\"2\" halign=\"left\">theta_est</th>\n",
       "      <th colspan=\"2\" halign=\"left\">theta_known_z_est</th>\n",
       "      <th colspan=\"2\" halign=\"left\">z_est</th>\n",
       "      <th colspan=\"2\" halign=\"left\">z_known_theta_est</th>\n",
       "    </tr>\n",
       "    <tr>\n",
       "      <th></th>\n",
       "      <th>mean</th>\n",
       "      <th>std</th>\n",
       "      <th>mean</th>\n",
       "      <th>std</th>\n",
       "      <th>mean</th>\n",
       "      <th>std</th>\n",
       "      <th>mean</th>\n",
       "      <th>std</th>\n",
       "    </tr>\n",
       "    <tr>\n",
       "      <th>theta</th>\n",
       "      <th></th>\n",
       "      <th></th>\n",
       "      <th></th>\n",
       "      <th></th>\n",
       "      <th></th>\n",
       "      <th></th>\n",
       "      <th></th>\n",
       "      <th></th>\n",
       "    </tr>\n",
       "  </thead>\n",
       "  <tbody>\n",
       "    <tr>\n",
       "      <th>1</th>\n",
       "      <td>2.167555</td>\n",
       "      <td>0.992948</td>\n",
       "      <td>1.896468</td>\n",
       "      <td>0.740379</td>\n",
       "      <td>570.35792</td>\n",
       "      <td>76.757701</td>\n",
       "      <td>509.56352</td>\n",
       "      <td>32.307029</td>\n",
       "    </tr>\n",
       "  </tbody>\n",
       "</table>\n",
       "</div>"
      ],
      "text/plain": [
       "      theta_est           theta_known_z_est                z_est             \\\n",
       "           mean       std              mean       std       mean        std   \n",
       "theta                                                                         \n",
       "1      2.167555  0.992948          1.896468  0.740379  570.35792  76.757701   \n",
       "\n",
       "      z_known_theta_est             \n",
       "                   mean        std  \n",
       "theta                               \n",
       "1             509.56352  32.307029  "
      ]
     },
     "execution_count": 54,
     "metadata": {},
     "output_type": "execute_result"
    }
   ],
   "source": [
    "cdataf.groupby(['theta'])['theta_est','theta_known_z_est', 'z_est', 'z_known_theta_est'].agg(['mean','std'])"
   ]
  },
  {
   "cell_type": "markdown",
   "metadata": {},
   "source": [
    "### Estimates summary plot for a single $\\theta$"
   ]
  },
  {
   "cell_type": "code",
   "execution_count": 33,
   "metadata": {},
   "outputs": [],
   "source": [
    "theta = 1\n",
    "cdatafA = cdataf.loc[cdataf['theta']== theta]"
   ]
  },
  {
   "cell_type": "code",
   "execution_count": 41,
   "metadata": {},
   "outputs": [
    {
     "data": {
      "image/png": "[encoded data removed]",
      "text/plain": [
       "<Figure size 432x288 with 6 Axes>"
      ]
     },
     "metadata": {
      "needs_background": "light"
     },
     "output_type": "display_data"
    }
   ],
   "source": [
    "plt.subplot(2,3,1)\n",
    "plt.title(r'$\\hat\\alpha$')\n",
    "plt.hist(cdatafA['alpha_est'], edgecolor='white', linewidth=0.5)\n",
    "\n",
    "plt.subplot(2,3,2)\n",
    "plt.title(r'$\\hat\\theta$')\n",
    "plt.hist(cdatafA['theta_est'], bins = np.linspace(theta-4,theta+4,30), edgecolor='white', linewidth=0.5)\n",
    "\n",
    "plt.subplot(2,3,3)\n",
    "plt.title(r'$\\hat\\theta$ with $z$ known')\n",
    "plt.hist(cdatafA['theta_known_z_est'], bins = np.linspace(theta-3,theta+3,30), edgecolor='white', linewidth=0.5)\n",
    "\n",
    "plt.subplot(2,3,4)\n",
    "plt.title(r'$\\hat z$ with $\\theta$ known')\n",
    "plt.hist(cdatafA['z_known_theta_est'], bins = np.linspace(400,600,30), edgecolor='white', linewidth=0.5)\n",
    "\n",
    "plt.subplot(2,3,5)\n",
    "plt.title(r'$\\hat z$')\n",
    "plt.hist(cdatafA['z_est'], bins = np.linspace(400,800,30), edgecolor='white', linewidth=0.5)\n",
    "\n",
    "plt.subplot(2,3,6)\n",
    "plt.title(r'scatterplot of $(\\hat\\theta,\\hat z)$')\n",
    "plt.scatter(cdatafA['theta_est'], cdatafA['z_est'], alpha=0.9, s=0.8)\n",
    "\n",
    "plt.tight_layout()\n",
    "plt.show()\n",
    "\n",
    "# plt.savefig('estimates_delaunay.pdf')"
   ]
  },
  {
   "cell_type": "markdown",
   "metadata": {},
   "source": [
    "### Facets distribution - one plot"
   ]
  },
  {
   "cell_type": "code",
   "execution_count": 63,
   "metadata": {},
   "outputs": [],
   "source": [
    "cdataA = cdataf.iloc[1]"
   ]
  },
  {
   "cell_type": "code",
   "execution_count": 64,
   "metadata": {},
   "outputs": [],
   "source": [
    "volumesA = listify(cdataA.tetra_volume)\n",
    "circumA = listify(cdataA.tetra_circum)\n",
    "tsurfA = listify(cdataA.tetra_surface)\n",
    "surfA = listify(cdataA.face_surf)\n",
    "lengthA = listify(cdataA.edge_length)\n",
    "degreeA = listify(cdataA.point_degree)"
   ]
  },
  {
   "cell_type": "code",
   "execution_count": 82,
   "metadata": {},
   "outputs": [
    {
     "data": {
      "image/png": "[encoded data removed]",
      "text/plain": [
       "<Figure size 432x288 with 6 Axes>"
      ]
     },
     "metadata": {
      "needs_background": "light"
     },
     "output_type": "display_data"
    }
   ],
   "source": [
    "plt.subplot(2,3,1)\n",
    "bins = np.linspace(0,0.002,40)\n",
    "plt.hist(volumesA, bins, density = True)\n",
    "plt.xlabel(\"Volume\")\n",
    "plt.axvline(x=np.mean(volumesA), c='r')\n",
    "#plt.ylabel(\"Density\")\n",
    "plt.title('Cell volume')\n",
    "plt.locator_params(nbins=4)\n",
    "\n",
    "plt.subplot(2,3,2)\n",
    "bins = np.linspace(0,0.3,40)\n",
    "plt.hist(tsurfA, bins, density = True)\n",
    "plt.xlabel(\"Surface\")\n",
    "plt.axvline(x=np.mean(tsurfA), c='r')\n",
    "#plt.ylabel(\"Density\")\n",
    "plt.title('Cell surface')\n",
    "plt.locator_params(nbins=4)\n",
    "\n",
    "plt.subplot(2,3,3)\n",
    "bins = np.linspace(0,0.3,40)\n",
    "plt.hist(circumA, bins, density = True)\n",
    "plt.xlabel(\"Circumradius\")\n",
    "plt.axvline(x=np.mean(circumA), c='r')\n",
    "#plt.ylabel(\"Density\")\n",
    "plt.title('Cell circumradius')\n",
    "plt.locator_params(nbins=4)\n",
    "\n",
    "plt.subplot(2,3,4)\n",
    "bins_surf = np.linspace(0.0004,0.04,40)\n",
    "plt.hist(surfA,bins_surf, density = True)\n",
    "plt.xlabel(\"Surface\")\n",
    "plt.axvline(x=np.mean(surfA), c='r')\n",
    "#plt.ylabel(\"Density\")\n",
    "plt.title('Face surface')\n",
    "plt.locator_params(nbins=4)\n",
    "\n",
    "plt.subplot(2,3,5)\n",
    "bins_length = np.linspace(0.01,0.4,40)\n",
    "plt.hist(lengthA,bins_length, density = True)\n",
    "plt.xlabel(\"Length\")\n",
    "plt.axvline(x=np.mean(lengthA), c='r')\n",
    "#plt.ylabel(\"Density\")\n",
    "plt.title('Edge length')\n",
    "plt.locator_params(nbins=6)\n",
    "\n",
    "plt.subplot(2,3,6)\n",
    "bins_deg = np.linspace(0,35,30)\n",
    "plt.hist(degreeA,bins_deg, density = True)\n",
    "plt.xlabel(\"Degree\")\n",
    "plt.axvline(x=np.mean(degreeA), c='r')\n",
    "#plt.ylabel(\"Density\")\n",
    "plt.title('Vertex degree')\n",
    "plt.locator_params(nbins=6)\n",
    "\n",
    "plt.tight_layout()\n",
    "plt.show()\n",
    "\n",
    "# plt.savefig('facets_Poisson.pdf')"
   ]
  },
  {
   "cell_type": "markdown",
   "metadata": {},
   "source": [
    "### Facets distribution - Comparison plot"
   ]
  },
  {
   "cell_type": "code",
   "execution_count": 14,
   "metadata": {},
   "outputs": [],
   "source": [
    "thetaA = 0.1\n",
    "thetaB = 10"
   ]
  },
  {
   "cell_type": "code",
   "execution_count": 15,
   "metadata": {},
   "outputs": [],
   "source": [
    "celldataA = celldata.loc[celldata['theta']==thetaA,].iloc[0]\n",
    "celldataB = celldata.loc[celldata['theta']==thetaB,].iloc[0]\n"
   ]
  },
  {
   "cell_type": "code",
   "execution_count": 17,
   "metadata": {},
   "outputs": [],
   "source": [
    "volumesA = listify(celldataA.tetra_volume)\n",
    "volumesB = listify(celldataB.tetra_volume)\n",
    "\n",
    "circumA = listify(celldataA.tetra_circum)\n",
    "circumB = listify(celldataB.tetra_circum)\n",
    "\n",
    "surfA = listify(celldataA.face_surf)\n",
    "surfB = listify(celldataB.face_surf)\n",
    "\n",
    "lengthA = listify(celldataA.edge_length)\n",
    "lengthB = listify(celldataB.edge_length)\n",
    "\n",
    "degreeA = listify(celldataA.point_degree)\n",
    "degreeB = listify(celldataB.point_degree)"
   ]
  },
  {
   "cell_type": "code",
   "execution_count": 18,
   "metadata": {},
   "outputs": [
    {
     "data": {
      "image/png": "[encoded data removed]",
      "text/plain": [
       "<Figure size 432x288 with 5 Axes>"
      ]
     },
     "metadata": {},
     "output_type": "display_data"
    }
   ],
   "source": [
    "plt.subplot(2,3,1)\n",
    "bins = np.linspace(0,0.002,40)\n",
    "plt.hist([volumesA,volumesB],bins, density = True,  label=[thetaA,thetaB])\n",
    "plt.legend(loc='upper right',prop={'size': 4})\n",
    "plt.xlabel(\"Volume\")\n",
    "#plt.ylabel(\"Density\")\n",
    "plt.title('Cell volume')\n",
    "plt.locator_params(nbins=4)\n",
    "\n",
    "plt.subplot(2,3,2)\n",
    "bins_circum = np.linspace(0.03,0.2,40)\n",
    "plt.hist([circumA,circumB],bins_circum, density = True, label=[thetaA,thetaB])\n",
    "plt.legend(loc='upper right',prop={'size': 4})\n",
    "plt.xlabel(\"Circumradius\")\n",
    "#plt.ylabel(\"Density\")\n",
    "plt.title('Cell circumradius')\n",
    "plt.locator_params(nbins=4)\n",
    "\n",
    "\n",
    "plt.subplot(2,3,3)\n",
    "bins_surf = np.linspace(0.0004,0.04,40)\n",
    "plt.hist([surfA,surfB],bins_surf, density = True, label=[thetaA,thetaB])\n",
    "plt.legend(loc='upper right',prop={'size': 4})\n",
    "plt.xlabel(\"Surface\")\n",
    "#plt.ylabel(\"Density\")\n",
    "plt.title('Face surface')\n",
    "plt.locator_params(nbins=4)\n",
    "\n",
    "\n",
    "plt.subplot(2,3,4)\n",
    "bins_length = np.linspace(0.01,0.4,40)\n",
    "plt.hist([lengthA,lengthB],bins_length, density = True, label=[thetaA, thetaB])\n",
    "plt.legend(loc='upper right',prop={'size': 4})\n",
    "plt.xlabel(\"Length\")\n",
    "#plt.ylabel(\"Density\")\n",
    "plt.title('Edge length')\n",
    "plt.locator_params(nbins=6)\n",
    "\n",
    "plt.subplot(2,3,5)\n",
    "bins_deg = np.linspace(0,35,30)\n",
    "plt.hist([degreeA,degreeB],bins_deg, density = True, label=[thetaA, thetaB])\n",
    "plt.legend(loc='upper right',prop={'size': 4})\n",
    "plt.xlabel(\"Degree\")\n",
    "#plt.ylabel(\"Density\")\n",
    "plt.title('Vertex degree')\n",
    "plt.locator_params(nbins=6)\n",
    "\n",
    "plt.tight_layout()\n",
    "plt.show()\n",
    "\n",
    "# plt.savefig('facets_extr.pdf')"
   ]
  },
  {
   "cell_type": "markdown",
   "metadata": {},
   "source": [
    "### Multiple theta estimate plots"
   ]
  },
  {
   "cell_type": "code",
   "execution_count": 71,
   "metadata": {},
   "outputs": [
    {
     "data": {
      "image/png": "[encoded data removed]",
      "text/plain": [
       "<Figure size 432x288 with 18 Axes>"
      ]
     },
     "metadata": {},
     "output_type": "display_data"
    }
   ],
   "source": [
    "groupnum = len(cdataf.groupby(['theta']))\n",
    "thetas = cdataf.groupby(['theta'])['theta_est','theta_known_z_est'].agg(['mean','std']).index\n",
    "\n",
    "for i, theta in enumerate(thetas):\n",
    "    plt.subplot(groupnum,2,2*i+1)\n",
    "    plt.ylabel(r'$\\theta = $ ' + str(theta))\n",
    "    plt.hist(cdataf.loc[cdataf['theta'] == thetas[i], 'theta_est'])\n",
    "    plt.axvline(x=thetas[i], c='r')\n",
    "    if (i==0):\n",
    "        plt.title('theta_est')\n",
    "\n",
    "    plt.subplot(groupnum,2,2*i+2)\n",
    "    plt.hist(cdataf.loc[cdataf['theta'] == thetas[i], 'theta_known_z_est'])\n",
    "    plt.axvline(x=thetas[i], c='r')\n",
    "    if (i==0):\n",
    "        plt.title('theta_know_z_est')\n",
    "    \n",
    "# plt.tight_layout(pad = 2, w_pad = 2, h_pad = 5)\n",
    "plt.subplots_adjust(top=4)\n",
    "\n",
    "# plt.show()\n",
    "\n",
    "plt.savefig('estimates_mult.pdf')"
   ]
  },
  {
   "cell_type": "markdown",
   "metadata": {},
   "source": [
    "### Summary stats table prep"
   ]
  },
  {
   "cell_type": "code",
   "execution_count": 378,
   "metadata": {},
   "outputs": [
    {
     "name": "stdout",
     "output_type": "stream",
     "text": [
      "0.00033 (0.00024) & 0.00044 (0.00030) \\\\\n",
      "0.1104 (0.0190) & 0.1157 (0.0196) \\\\\n",
      "0.0099 (0.0049) & 0.0116 (0.0055) \\\\\n",
      "0.16 (0.05) & 0.17 (0.05) \\\\\n",
      "15.09 (4.04) & 15.14 (3.80) \\\\\n"
     ]
    }
   ],
   "source": [
    "print('{0:.5f}'.format(np.mean(volumesA)) + ' (' + '{0:.5f}'.format(np.std(volumesA)) + ')' + ' & ' +  '{0:.5f}'.format(np.mean(volumesB)) + ' (' + '{0:.5f}'.format(np.std(volumesB)) + ') \\\\\\\\')\n",
    "print('{0:.4f}'.format(np.mean(circumA)) + ' (' + '{0:.4f}'.format(np.std(circumA)) + ')' +' & ' + '{0:.4f}'.format(np.mean(circumB)) + ' (' + '{0:.4f}'.format(np.std(circumB)) + ') \\\\\\\\')\n",
    "print('{0:.4f}'.format(np.mean(surfA)) + ' (' + '{0:.4f}'.format(np.std(surfA)) + ')' +' & ' + '{0:.4f}'.format(np.mean(surfB)) + ' (' + '{0:.4f}'.format(np.std(surfB)) + ') \\\\\\\\')\n",
    "print('{0:.2f}'.format(np.mean(lengthA)) + ' (' + '{0:.2f}'.format(np.std(lengthA)) + ')' + ' & ' + '{0:.2f}'.format(np.mean(lengthB)) + ' (' + '{0:.2f}'.format(np.std(lengthB)) + ') \\\\\\\\')\n",
    "print('{0:.2f}'.format(np.mean(degreeA)) + ' (' + '{0:.2f}'.format(np.std(degreeA)) + ')' + ' & ' + '{0:.2f}'.format(np.mean(degreeB)) + ' (' + '{0:.2f}'.format(np.std(degreeB)) + ') \\\\\\\\')\n"
   ]
  },
  {
   "cell_type": "markdown",
   "metadata": {},
   "source": [
    "### LaTeX table prep"
   ]
  },
  {
   "cell_type": "code",
   "execution_count": 496,
   "metadata": {},
   "outputs": [
    {
     "name": "stdout",
     "output_type": "stream",
     "text": [
      "$\\hat\\alpha$ 0.19794 (0.00683)\n",
      "$\\hat\\theta$ 2.8791 (0.9459\n",
      "$\\hat\\theta$ with $z$ known 3.2078 (0.7978\n",
      "$\\hat z$ 426.63 (43.79)\n"
     ]
    }
   ],
   "source": [
    "print(r'$\\hat\\alpha$ ' + '{0:.5f}'.format(np.mean(df['alpha_est'])) + ' (' + '{0:.5f}'.format(np.std(df['alpha_est'])) + ')' )\n",
    "print(r'$\\hat\\theta$ ' + '{0:.4f}'.format(np.mean(df['theta_est'])) + ' (' + '{0:.4f}'.format(np.std(df['theta_est'])) )\n",
    "print(r'$\\hat\\theta$ with $z$ known ' +'{0:.4f}'.format(np.mean(df['theta_z_known_est'])) + ' (' + '{0:.4f}'.format(np.std(df['theta_z_known_est'])) )\n",
    "print(r'$\\hat z$ ' +'{0:.2f}'.format(np.mean(df['z_est'])) + ' (' + '{0:.2f}'.format(np.std(df['z_est'])) + ')' )\n"
   ]
  },
  {
   "cell_type": "markdown",
   "metadata": {},
   "source": [
    "---"
   ]
  },
  {
   "cell_type": "markdown",
   "metadata": {},
   "source": [
    "# Diagnostic plots"
   ]
  },
  {
   "cell_type": "code",
   "execution_count": 5,
   "metadata": {},
   "outputs": [],
   "source": [
    "log = pd.read_csv('files/log_3_6_20180926_08_45_21_42948.csv', sep=',')"
   ]
  },
  {
   "cell_type": "markdown",
   "metadata": {},
   "source": [
    "### Accept + move type statistics"
   ]
  },
  {
   "cell_type": "code",
   "execution_count": 6,
   "metadata": {},
   "outputs": [
    {
     "data": {
      "text/plain": [
       "1    2761350\n",
       "0     238650\n",
       "Name: accept, dtype: int64"
      ]
     },
     "execution_count": 6,
     "metadata": {},
     "output_type": "execute_result"
    }
   ],
   "source": [
    "log['accept'].value_counts()"
   ]
  },
  {
   "cell_type": "code",
   "execution_count": 7,
   "metadata": {},
   "outputs": [
    {
     "data": {
      "text/plain": [
       "M    1000425\n",
       "D    1000314\n",
       "B     999261\n",
       "Name: type, dtype: int64"
      ]
     },
     "execution_count": 7,
     "metadata": {},
     "output_type": "execute_result"
    }
   ],
   "source": [
    "log['type'].value_counts()"
   ]
  },
  {
   "cell_type": "code",
   "execution_count": 8,
   "metadata": {},
   "outputs": [
    {
     "data": {
      "text/plain": [
       "accept  type\n",
       "0       M        85243\n",
       "        D        77081\n",
       "        B        76326\n",
       "1       D       923233\n",
       "        B       922935\n",
       "        M       915182\n",
       "Name: type, dtype: int64"
      ]
     },
     "execution_count": 8,
     "metadata": {},
     "output_type": "execute_result"
    }
   ],
   "source": [
    "log.groupby('accept')['type'].value_counts()"
   ]
  },
  {
   "cell_type": "markdown",
   "metadata": {},
   "source": [
    "### Convergence"
   ]
  },
  {
   "cell_type": "code",
   "execution_count": 9,
   "metadata": {},
   "outputs": [],
   "source": [
    "log['time'] = log['time'].replace(math.nan,'',regex=True)\n",
    "log['time'] = pd.to_numeric(log['time'])"
   ]
  },
  {
   "cell_type": "code",
   "execution_count": 10,
   "metadata": {},
   "outputs": [],
   "source": [
    "block_length = 40000\n",
    "groupby_blocks = np.repeat(range(int(len(log)/block_length)),block_length)\n",
    "groupby_blocks = np.array([0] + list(groupby_blocks+1))[0:-1]"
   ]
  },
  {
   "cell_type": "code",
   "execution_count": 11,
   "metadata": {},
   "outputs": [],
   "source": [
    "groupedlog = log.groupby([groupby_blocks, 'type'])['accept'].sum().reset_index()"
   ]
  },
  {
   "cell_type": "code",
   "execution_count": 12,
   "metadata": {},
   "outputs": [],
   "source": [
    "groupedmeanlog = log.groupby([groupby_blocks])['energy','no_act_vrt','time'].mean().reset_index()"
   ]
  },
  {
   "cell_type": "code",
   "execution_count": 16,
   "metadata": {},
   "outputs": [
    {
     "data": {
      "image/png": "[encoded data removed]",
      "text/plain": [
       "<Figure size 432x288 with 6 Axes>"
      ]
     },
     "metadata": {
      "needs_background": "light"
     },
     "output_type": "display_data"
    }
   ],
   "source": [
    "plt.subplot(2,3,1)\n",
    "plt.title('Energy')\n",
    "# plt.ylim(240,250)\n",
    "groupedmeanlog['energy'].plot()\n",
    "\n",
    "plt.subplot(2,3,2)\n",
    "plt.title('Number of vertices')\n",
    "# plt.ylim(450,520)\n",
    "groupedmeanlog['no_act_vrt'].plot()\n",
    "\n",
    "plt.subplot(2,3,3)\n",
    "plt.title('Time taken')\n",
    "# plt.ylim(0.0028,0.0032)\n",
    "groupedmeanlog['time'].plot()\n",
    "\n",
    "plt.subplot(2,3,4)\n",
    "plt.title('Accepted births')\n",
    "groupedlog[groupedlog['type'] == 'B']['accept'].plot()\n",
    "\n",
    "plt.subplot(2,3,5)\n",
    "plt.title('Accepted deaths')\n",
    "# plt.ylim(5000,5800)\n",
    "groupedlog[groupedlog['type'] == 'D']['accept'].plot()\n",
    "\n",
    "plt.subplot(2,3,6)\n",
    "plt.title('Accepted moves')\n",
    "groupedlog[groupedlog['type'] == 'M']['accept'].plot()\n",
    "\n",
    "\n",
    "plt.tight_layout()\n",
    "plt.show()\n",
    "\n",
    "# plt.savefig('convergence.pdf')"
   ]
  },
  {
   "cell_type": "markdown",
   "metadata": {},
   "source": [
    "### Checking if the energy does not move by itself"
   ]
  },
  {
   "cell_type": "code",
   "execution_count": 89,
   "metadata": {},
   "outputs": [],
   "source": [
    "lognona = log[~log.isnull().any(axis=1)]\n",
    "logshift = lognona.assign(shiftenergy = lognona['energy'].shift(-1))"
   ]
  },
  {
   "cell_type": "code",
   "execution_count": 90,
   "metadata": {},
   "outputs": [
    {
     "data": {
      "text/html": [
       "<div>\n",
       "<style scoped>\n",
       "    .dataframe tbody tr th:only-of-type {\n",
       "        vertical-align: middle;\n",
       "    }\n",
       "\n",
       "    .dataframe tbody tr th {\n",
       "        vertical-align: top;\n",
       "    }\n",
       "\n",
       "    .dataframe thead th {\n",
       "        text-align: right;\n",
       "    }\n",
       "</style>\n",
       "<table border=\"1\" class=\"dataframe\">\n",
       "  <thead>\n",
       "    <tr style=\"text-align: right;\">\n",
       "      <th></th>\n",
       "      <th>step_no</th>\n",
       "      <th>type</th>\n",
       "      <th>pt</th>\n",
       "      <th>pt_mv</th>\n",
       "      <th>energy</th>\n",
       "      <th>energy_after</th>\n",
       "      <th>b</th>\n",
       "      <th>ratio</th>\n",
       "      <th>accept</th>\n",
       "      <th>no_vrt</th>\n",
       "      <th>no_act_vrt</th>\n",
       "      <th>time</th>\n",
       "      <th>shiftenergy</th>\n",
       "    </tr>\n",
       "  </thead>\n",
       "  <tbody>\n",
       "    <tr>\n",
       "      <th>1999999</th>\n",
       "      <td>2000000</td>\n",
       "      <td>B</td>\n",
       "      <td>0.260079 0.576914 0.170576 0.0041291</td>\n",
       "      <td></td>\n",
       "      <td>145.211</td>\n",
       "      <td>-1.0</td>\n",
       "      <td>0.762074</td>\n",
       "      <td>0.511364</td>\n",
       "      <td>0.0</td>\n",
       "      <td>6142.0</td>\n",
       "      <td>871.0</td>\n",
       "      <td>0.002197</td>\n",
       "      <td>NaN</td>\n",
       "    </tr>\n",
       "  </tbody>\n",
       "</table>\n",
       "</div>"
      ],
      "text/plain": [
       "         step_no type                                    pt pt_mv   energy  \\\n",
       "1999999  2000000    B  0.260079 0.576914 0.170576 0.0041291        145.211   \n",
       "\n",
       "         energy_after         b     ratio  accept  no_vrt  no_act_vrt  \\\n",
       "1999999          -1.0  0.762074  0.511364     0.0  6142.0       871.0   \n",
       "\n",
       "             time  shiftenergy  \n",
       "1999999  0.002197          NaN  "
      ]
     },
     "execution_count": 90,
     "metadata": {},
     "output_type": "execute_result"
    }
   ],
   "source": [
    "logshift[(logshift['shiftenergy'] - logshift['energy'] != 0) & (logshift['accept'] != 1)]"
   ]
  },
  {
   "cell_type": "markdown",
   "metadata": {},
   "source": [
    "## Parsing Cell data from SLURM logs"
   ]
  },
  {
   "cell_type": "code",
   "execution_count": 483,
   "metadata": {},
   "outputs": [],
   "source": [
    "def extract_data(filename):\n",
    "    lines = []\n",
    "    with open(filename,  'r') as slurm:\n",
    "        for line in slurm:\n",
    "            lines += [line]\n",
    "            \n",
    "    numbers_unflat = [re.findall(\"\\d+\\.\\d+|\\d+\", line) for line in lines]\n",
    "    data = []\n",
    "    if len(numbers_unflat) == 12:\n",
    "        numbers = [float(number) for sublist in numbers_unflat for number in sublist]\n",
    "        data = [filename] + [numbers[i] for i in [3,4,5,6,7,8,11,12,13,14,15,16,18,19,20]]\n",
    "\n",
    "    return(data)"
   ]
  },
  {
   "cell_type": "code",
   "execution_count": 484,
   "metadata": {},
   "outputs": [],
   "source": [
    "columns = ['filename','theta','epsilon','alpha','z','max_weight', 'iterations','pts','pts_active','pts_removable','min_edge_est','epsilon_est','alpha_est','theta_est','z_est','theta_z_known_est']\n",
    "\n",
    "df = pd.DataFrame(columns=columns)"
   ]
  },
  {
   "cell_type": "code",
   "execution_count": 485,
   "metadata": {},
   "outputs": [
    {
     "name": "stdout",
     "output_type": "stream",
     "text": [
      "Success rate: 303 out of 303 . ( 1.0 )\n"
     ]
    }
   ],
   "source": [
    "data = []\n",
    "success = 0\n",
    "total = 0\n",
    "\n",
    "for filename in os.listdir('slurmlogs'):\n",
    "    total += 1\n",
    "    slurm_parsed = extract_data('slurmlogs/' + filename) \n",
    "    if len(slurm_parsed) == 16:\n",
    "        data += [slurm_parsed]\n",
    "        success += 1\n",
    "    \n",
    "print('Success rate:', success, 'out of', total,'. (',success/total, ')')"
   ]
  }
 ],
 "metadata": {
  "kernelspec": {
   "display_name": "Python 3",
   "language": "python",
   "name": "python3"
  },
  "language_info": {
   "codemirror_mode": {
    "name": "ipython",
    "version": 3
   },
   "file_extension": ".py",
   "mimetype": "text/x-python",
   "name": "python",
   "nbconvert_exporter": "python",
   "pygments_lexer": "ipython3",
   "version": "3.7.0"
  }
 },
 "nbformat": 4,
 "nbformat_minor": 2
}
